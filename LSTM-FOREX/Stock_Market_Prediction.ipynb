{
  "nbformat": 4,
  "nbformat_minor": 0,
  "metadata": {
    "colab": {
      "provenance": [],
      "collapsed_sections": []
    },
    "kernelspec": {
      "name": "python3",
      "display_name": "Python 3"
    },
    "language_info": {
      "name": "python"
    }
  },
  "cells": [
    {
      "cell_type": "markdown",
      "source": [
        "#Stock Market Prediction and Forecasting Using Stacked LSTM"
      ],
      "metadata": {
        "id": "YtYISQoxkjjz"
      }
    },
    {
      "cell_type": "code",
      "execution_count": null,
      "metadata": {
        "id": "lxBgFDfJkfP5"
      },
      "outputs": [],
      "source": [
        "#Keras and Tensorflow > 2.0"
      ]
    },
    {
      "cell_type": "code",
      "source": [
        "# Data Collection\n",
        "import pandas_datareader as pdr"
      ],
      "metadata": {
        "id": "gEpBUa4IkuCp"
      },
      "execution_count": null,
      "outputs": []
    },
    {
      "cell_type": "code",
      "source": [
        "key = '8138a60a6bcc7cdfa486834b128d5ce3c3a3e417'"
      ],
      "metadata": {
        "id": "Ub-FfxFwls3P"
      },
      "execution_count": null,
      "outputs": []
    },
    {
      "cell_type": "code",
      "source": [
        "df = pdr.get_data_tiingo('AAPL', api_key=key)\n",
        "#df = pdr.get_data_tiingo('https://api.tiingo.com/tiingo/crypto/prices?tickers=Binance&startDate=2019-01-02&resampleFreq=5min')"
      ],
      "metadata": {
        "colab": {
          "base_uri": "https://localhost:8080/"
        },
        "id": "ZBxzgnohk3Ke",
        "outputId": "d55667ae-9aaf-461c-bd90-aa39126055a7"
      },
      "execution_count": null,
      "outputs": [
        {
          "output_type": "stream",
          "name": "stderr",
          "text": [
            "/usr/local/lib/python3.7/dist-packages/pandas_datareader/tiingo.py:234: FutureWarning: In a future version of pandas all arguments of concat except for the argument 'objs' will be keyword-only\n",
            "  return pd.concat(dfs, self._concat_axis)\n"
          ]
        }
      ]
    },
    {
      "cell_type": "code",
      "source": [
        "df.to_csv('AAPL.csv')\n",
        "#df.to_csv('Binance.csv')"
      ],
      "metadata": {
        "id": "YqjoQ9Epl7IV"
      },
      "execution_count": null,
      "outputs": []
    },
    {
      "cell_type": "code",
      "source": [
        "import pandas as pd"
      ],
      "metadata": {
        "id": "XHeLovGXmJKE"
      },
      "execution_count": null,
      "outputs": []
    },
    {
      "cell_type": "code",
      "source": [
        "df.head()"
      ],
      "metadata": {
        "colab": {
          "base_uri": "https://localhost:8080/",
          "height": 368
        },
        "id": "JQHy_xJqmNtv",
        "outputId": "3ff5b63d-c9a9-4ab0-8964-76f54b507232"
      },
      "execution_count": null,
      "outputs": [
        {
          "output_type": "execute_result",
          "data": {
            "text/plain": [
              "                                   close     high     low     open    volume  \\\n",
              "symbol date                                                                    \n",
              "AAPL   2017-11-03 00:00:00+00:00  172.50  174.260  171.12  174.000  58683826   \n",
              "       2017-11-06 00:00:00+00:00  174.25  174.990  171.72  172.365  34242566   \n",
              "       2017-11-07 00:00:00+00:00  174.81  175.250  173.60  173.910  23910914   \n",
              "       2017-11-08 00:00:00+00:00  176.24  176.240  174.33  174.660  23907639   \n",
              "       2017-11-09 00:00:00+00:00  175.88  176.095  173.14  175.110  28636531   \n",
              "\n",
              "                                   adjClose    adjHigh     adjLow    adjOpen  \\\n",
              "symbol date                                                                    \n",
              "AAPL   2017-11-03 00:00:00+00:00  40.926202  41.343768  40.598792  41.282082   \n",
              "       2017-11-06 00:00:00+00:00  41.341395  41.516962  40.741144  40.894172   \n",
              "       2017-11-07 00:00:00+00:00  41.474257  41.578648  41.187180  41.260729   \n",
              "       2017-11-08 00:00:00+00:00  41.813529  41.813529  41.360375  41.438669   \n",
              "       2017-11-09 00:00:00+00:00  41.728118  41.779127  41.078044  41.545433   \n",
              "\n",
              "                                  adjVolume  divCash  splitFactor  \n",
              "symbol date                                                        \n",
              "AAPL   2017-11-03 00:00:00+00:00  234735304      0.0          1.0  \n",
              "       2017-11-06 00:00:00+00:00  136970264      0.0          1.0  \n",
              "       2017-11-07 00:00:00+00:00   95643656      0.0          1.0  \n",
              "       2017-11-08 00:00:00+00:00   95630556      0.0          1.0  \n",
              "       2017-11-09 00:00:00+00:00  114546124      0.0          1.0  "
            ],
            "text/html": [
              "\n",
              "  <div id=\"df-918d5a6d-e679-4b0c-b63e-cb58b9f2eae7\">\n",
              "    <div class=\"colab-df-container\">\n",
              "      <div>\n",
              "<style scoped>\n",
              "    .dataframe tbody tr th:only-of-type {\n",
              "        vertical-align: middle;\n",
              "    }\n",
              "\n",
              "    .dataframe tbody tr th {\n",
              "        vertical-align: top;\n",
              "    }\n",
              "\n",
              "    .dataframe thead th {\n",
              "        text-align: right;\n",
              "    }\n",
              "</style>\n",
              "<table border=\"1\" class=\"dataframe\">\n",
              "  <thead>\n",
              "    <tr style=\"text-align: right;\">\n",
              "      <th></th>\n",
              "      <th></th>\n",
              "      <th>close</th>\n",
              "      <th>high</th>\n",
              "      <th>low</th>\n",
              "      <th>open</th>\n",
              "      <th>volume</th>\n",
              "      <th>adjClose</th>\n",
              "      <th>adjHigh</th>\n",
              "      <th>adjLow</th>\n",
              "      <th>adjOpen</th>\n",
              "      <th>adjVolume</th>\n",
              "      <th>divCash</th>\n",
              "      <th>splitFactor</th>\n",
              "    </tr>\n",
              "    <tr>\n",
              "      <th>symbol</th>\n",
              "      <th>date</th>\n",
              "      <th></th>\n",
              "      <th></th>\n",
              "      <th></th>\n",
              "      <th></th>\n",
              "      <th></th>\n",
              "      <th></th>\n",
              "      <th></th>\n",
              "      <th></th>\n",
              "      <th></th>\n",
              "      <th></th>\n",
              "      <th></th>\n",
              "      <th></th>\n",
              "    </tr>\n",
              "  </thead>\n",
              "  <tbody>\n",
              "    <tr>\n",
              "      <th rowspan=\"5\" valign=\"top\">AAPL</th>\n",
              "      <th>2017-11-03 00:00:00+00:00</th>\n",
              "      <td>172.50</td>\n",
              "      <td>174.260</td>\n",
              "      <td>171.12</td>\n",
              "      <td>174.000</td>\n",
              "      <td>58683826</td>\n",
              "      <td>40.926202</td>\n",
              "      <td>41.343768</td>\n",
              "      <td>40.598792</td>\n",
              "      <td>41.282082</td>\n",
              "      <td>234735304</td>\n",
              "      <td>0.0</td>\n",
              "      <td>1.0</td>\n",
              "    </tr>\n",
              "    <tr>\n",
              "      <th>2017-11-06 00:00:00+00:00</th>\n",
              "      <td>174.25</td>\n",
              "      <td>174.990</td>\n",
              "      <td>171.72</td>\n",
              "      <td>172.365</td>\n",
              "      <td>34242566</td>\n",
              "      <td>41.341395</td>\n",
              "      <td>41.516962</td>\n",
              "      <td>40.741144</td>\n",
              "      <td>40.894172</td>\n",
              "      <td>136970264</td>\n",
              "      <td>0.0</td>\n",
              "      <td>1.0</td>\n",
              "    </tr>\n",
              "    <tr>\n",
              "      <th>2017-11-07 00:00:00+00:00</th>\n",
              "      <td>174.81</td>\n",
              "      <td>175.250</td>\n",
              "      <td>173.60</td>\n",
              "      <td>173.910</td>\n",
              "      <td>23910914</td>\n",
              "      <td>41.474257</td>\n",
              "      <td>41.578648</td>\n",
              "      <td>41.187180</td>\n",
              "      <td>41.260729</td>\n",
              "      <td>95643656</td>\n",
              "      <td>0.0</td>\n",
              "      <td>1.0</td>\n",
              "    </tr>\n",
              "    <tr>\n",
              "      <th>2017-11-08 00:00:00+00:00</th>\n",
              "      <td>176.24</td>\n",
              "      <td>176.240</td>\n",
              "      <td>174.33</td>\n",
              "      <td>174.660</td>\n",
              "      <td>23907639</td>\n",
              "      <td>41.813529</td>\n",
              "      <td>41.813529</td>\n",
              "      <td>41.360375</td>\n",
              "      <td>41.438669</td>\n",
              "      <td>95630556</td>\n",
              "      <td>0.0</td>\n",
              "      <td>1.0</td>\n",
              "    </tr>\n",
              "    <tr>\n",
              "      <th>2017-11-09 00:00:00+00:00</th>\n",
              "      <td>175.88</td>\n",
              "      <td>176.095</td>\n",
              "      <td>173.14</td>\n",
              "      <td>175.110</td>\n",
              "      <td>28636531</td>\n",
              "      <td>41.728118</td>\n",
              "      <td>41.779127</td>\n",
              "      <td>41.078044</td>\n",
              "      <td>41.545433</td>\n",
              "      <td>114546124</td>\n",
              "      <td>0.0</td>\n",
              "      <td>1.0</td>\n",
              "    </tr>\n",
              "  </tbody>\n",
              "</table>\n",
              "</div>\n",
              "      <button class=\"colab-df-convert\" onclick=\"convertToInteractive('df-918d5a6d-e679-4b0c-b63e-cb58b9f2eae7')\"\n",
              "              title=\"Convert this dataframe to an interactive table.\"\n",
              "              style=\"display:none;\">\n",
              "        \n",
              "  <svg xmlns=\"http://www.w3.org/2000/svg\" height=\"24px\"viewBox=\"0 0 24 24\"\n",
              "       width=\"24px\">\n",
              "    <path d=\"M0 0h24v24H0V0z\" fill=\"none\"/>\n",
              "    <path d=\"M18.56 5.44l.94 2.06.94-2.06 2.06-.94-2.06-.94-.94-2.06-.94 2.06-2.06.94zm-11 1L8.5 8.5l.94-2.06 2.06-.94-2.06-.94L8.5 2.5l-.94 2.06-2.06.94zm10 10l.94 2.06.94-2.06 2.06-.94-2.06-.94-.94-2.06-.94 2.06-2.06.94z\"/><path d=\"M17.41 7.96l-1.37-1.37c-.4-.4-.92-.59-1.43-.59-.52 0-1.04.2-1.43.59L10.3 9.45l-7.72 7.72c-.78.78-.78 2.05 0 2.83L4 21.41c.39.39.9.59 1.41.59.51 0 1.02-.2 1.41-.59l7.78-7.78 2.81-2.81c.8-.78.8-2.07 0-2.86zM5.41 20L4 18.59l7.72-7.72 1.47 1.35L5.41 20z\"/>\n",
              "  </svg>\n",
              "      </button>\n",
              "      \n",
              "  <style>\n",
              "    .colab-df-container {\n",
              "      display:flex;\n",
              "      flex-wrap:wrap;\n",
              "      gap: 12px;\n",
              "    }\n",
              "\n",
              "    .colab-df-convert {\n",
              "      background-color: #E8F0FE;\n",
              "      border: none;\n",
              "      border-radius: 50%;\n",
              "      cursor: pointer;\n",
              "      display: none;\n",
              "      fill: #1967D2;\n",
              "      height: 32px;\n",
              "      padding: 0 0 0 0;\n",
              "      width: 32px;\n",
              "    }\n",
              "\n",
              "    .colab-df-convert:hover {\n",
              "      background-color: #E2EBFA;\n",
              "      box-shadow: 0px 1px 2px rgba(60, 64, 67, 0.3), 0px 1px 3px 1px rgba(60, 64, 67, 0.15);\n",
              "      fill: #174EA6;\n",
              "    }\n",
              "\n",
              "    [theme=dark] .colab-df-convert {\n",
              "      background-color: #3B4455;\n",
              "      fill: #D2E3FC;\n",
              "    }\n",
              "\n",
              "    [theme=dark] .colab-df-convert:hover {\n",
              "      background-color: #434B5C;\n",
              "      box-shadow: 0px 1px 3px 1px rgba(0, 0, 0, 0.15);\n",
              "      filter: drop-shadow(0px 1px 2px rgba(0, 0, 0, 0.3));\n",
              "      fill: #FFFFFF;\n",
              "    }\n",
              "  </style>\n",
              "\n",
              "      <script>\n",
              "        const buttonEl =\n",
              "          document.querySelector('#df-918d5a6d-e679-4b0c-b63e-cb58b9f2eae7 button.colab-df-convert');\n",
              "        buttonEl.style.display =\n",
              "          google.colab.kernel.accessAllowed ? 'block' : 'none';\n",
              "\n",
              "        async function convertToInteractive(key) {\n",
              "          const element = document.querySelector('#df-918d5a6d-e679-4b0c-b63e-cb58b9f2eae7');\n",
              "          const dataTable =\n",
              "            await google.colab.kernel.invokeFunction('convertToInteractive',\n",
              "                                                     [key], {});\n",
              "          if (!dataTable) return;\n",
              "\n",
              "          const docLinkHtml = 'Like what you see? Visit the ' +\n",
              "            '<a target=\"_blank\" href=https://colab.research.google.com/notebooks/data_table.ipynb>data table notebook</a>'\n",
              "            + ' to learn more about interactive tables.';\n",
              "          element.innerHTML = '';\n",
              "          dataTable['output_type'] = 'display_data';\n",
              "          await google.colab.output.renderOutput(dataTable, element);\n",
              "          const docLink = document.createElement('div');\n",
              "          docLink.innerHTML = docLinkHtml;\n",
              "          element.appendChild(docLink);\n",
              "        }\n",
              "      </script>\n",
              "    </div>\n",
              "  </div>\n",
              "  "
            ]
          },
          "metadata": {},
          "execution_count": 273
        }
      ]
    },
    {
      "cell_type": "code",
      "source": [
        "df.tail()"
      ],
      "metadata": {
        "colab": {
          "base_uri": "https://localhost:8080/",
          "height": 281
        },
        "id": "yXztNhy5mXO_",
        "outputId": "b8c725c2-77a4-4b81-f2e8-eae313641ab8"
      },
      "execution_count": null,
      "outputs": [
        {
          "output_type": "execute_result",
          "data": {
            "text/plain": [
              "                                   close     high     low     open     volume  \\\n",
              "symbol date                                                                     \n",
              "AAPL   2022-10-26 00:00:00+00:00  149.35  151.990  148.04  150.960   88436172   \n",
              "       2022-10-27 00:00:00+00:00  144.80  149.046  144.13  148.070  109180150   \n",
              "       2022-10-28 00:00:00+00:00  155.74  157.500  147.82  148.200  164762371   \n",
              "       2022-10-31 00:00:00+00:00  153.34  154.240  151.92  153.155   97943171   \n",
              "       2022-11-01 00:00:00+00:00  150.65  155.450  149.13  155.080   80379345   \n",
              "\n",
              "                                  adjClose  adjHigh  adjLow  adjOpen  \\\n",
              "symbol date                                                            \n",
              "AAPL   2022-10-26 00:00:00+00:00    149.35  151.990  148.04  150.960   \n",
              "       2022-10-27 00:00:00+00:00    144.80  149.046  144.13  148.070   \n",
              "       2022-10-28 00:00:00+00:00    155.74  157.500  147.82  148.200   \n",
              "       2022-10-31 00:00:00+00:00    153.34  154.240  151.92  153.155   \n",
              "       2022-11-01 00:00:00+00:00    150.65  155.450  149.13  155.080   \n",
              "\n",
              "                                  adjVolume  divCash  splitFactor  \n",
              "symbol date                                                        \n",
              "AAPL   2022-10-26 00:00:00+00:00   88436172      0.0          1.0  \n",
              "       2022-10-27 00:00:00+00:00  109180150      0.0          1.0  \n",
              "       2022-10-28 00:00:00+00:00  164762371      0.0          1.0  \n",
              "       2022-10-31 00:00:00+00:00   97943171      0.0          1.0  \n",
              "       2022-11-01 00:00:00+00:00   80379345      0.0          1.0  "
            ],
            "text/html": [
              "\n",
              "  <div id=\"df-378f2f3b-d7bb-4fbc-acb0-c9f5c07dd94d\">\n",
              "    <div class=\"colab-df-container\">\n",
              "      <div>\n",
              "<style scoped>\n",
              "    .dataframe tbody tr th:only-of-type {\n",
              "        vertical-align: middle;\n",
              "    }\n",
              "\n",
              "    .dataframe tbody tr th {\n",
              "        vertical-align: top;\n",
              "    }\n",
              "\n",
              "    .dataframe thead th {\n",
              "        text-align: right;\n",
              "    }\n",
              "</style>\n",
              "<table border=\"1\" class=\"dataframe\">\n",
              "  <thead>\n",
              "    <tr style=\"text-align: right;\">\n",
              "      <th></th>\n",
              "      <th></th>\n",
              "      <th>close</th>\n",
              "      <th>high</th>\n",
              "      <th>low</th>\n",
              "      <th>open</th>\n",
              "      <th>volume</th>\n",
              "      <th>adjClose</th>\n",
              "      <th>adjHigh</th>\n",
              "      <th>adjLow</th>\n",
              "      <th>adjOpen</th>\n",
              "      <th>adjVolume</th>\n",
              "      <th>divCash</th>\n",
              "      <th>splitFactor</th>\n",
              "    </tr>\n",
              "    <tr>\n",
              "      <th>symbol</th>\n",
              "      <th>date</th>\n",
              "      <th></th>\n",
              "      <th></th>\n",
              "      <th></th>\n",
              "      <th></th>\n",
              "      <th></th>\n",
              "      <th></th>\n",
              "      <th></th>\n",
              "      <th></th>\n",
              "      <th></th>\n",
              "      <th></th>\n",
              "      <th></th>\n",
              "      <th></th>\n",
              "    </tr>\n",
              "  </thead>\n",
              "  <tbody>\n",
              "    <tr>\n",
              "      <th rowspan=\"5\" valign=\"top\">AAPL</th>\n",
              "      <th>2022-10-26 00:00:00+00:00</th>\n",
              "      <td>149.35</td>\n",
              "      <td>151.990</td>\n",
              "      <td>148.04</td>\n",
              "      <td>150.960</td>\n",
              "      <td>88436172</td>\n",
              "      <td>149.35</td>\n",
              "      <td>151.990</td>\n",
              "      <td>148.04</td>\n",
              "      <td>150.960</td>\n",
              "      <td>88436172</td>\n",
              "      <td>0.0</td>\n",
              "      <td>1.0</td>\n",
              "    </tr>\n",
              "    <tr>\n",
              "      <th>2022-10-27 00:00:00+00:00</th>\n",
              "      <td>144.80</td>\n",
              "      <td>149.046</td>\n",
              "      <td>144.13</td>\n",
              "      <td>148.070</td>\n",
              "      <td>109180150</td>\n",
              "      <td>144.80</td>\n",
              "      <td>149.046</td>\n",
              "      <td>144.13</td>\n",
              "      <td>148.070</td>\n",
              "      <td>109180150</td>\n",
              "      <td>0.0</td>\n",
              "      <td>1.0</td>\n",
              "    </tr>\n",
              "    <tr>\n",
              "      <th>2022-10-28 00:00:00+00:00</th>\n",
              "      <td>155.74</td>\n",
              "      <td>157.500</td>\n",
              "      <td>147.82</td>\n",
              "      <td>148.200</td>\n",
              "      <td>164762371</td>\n",
              "      <td>155.74</td>\n",
              "      <td>157.500</td>\n",
              "      <td>147.82</td>\n",
              "      <td>148.200</td>\n",
              "      <td>164762371</td>\n",
              "      <td>0.0</td>\n",
              "      <td>1.0</td>\n",
              "    </tr>\n",
              "    <tr>\n",
              "      <th>2022-10-31 00:00:00+00:00</th>\n",
              "      <td>153.34</td>\n",
              "      <td>154.240</td>\n",
              "      <td>151.92</td>\n",
              "      <td>153.155</td>\n",
              "      <td>97943171</td>\n",
              "      <td>153.34</td>\n",
              "      <td>154.240</td>\n",
              "      <td>151.92</td>\n",
              "      <td>153.155</td>\n",
              "      <td>97943171</td>\n",
              "      <td>0.0</td>\n",
              "      <td>1.0</td>\n",
              "    </tr>\n",
              "    <tr>\n",
              "      <th>2022-11-01 00:00:00+00:00</th>\n",
              "      <td>150.65</td>\n",
              "      <td>155.450</td>\n",
              "      <td>149.13</td>\n",
              "      <td>155.080</td>\n",
              "      <td>80379345</td>\n",
              "      <td>150.65</td>\n",
              "      <td>155.450</td>\n",
              "      <td>149.13</td>\n",
              "      <td>155.080</td>\n",
              "      <td>80379345</td>\n",
              "      <td>0.0</td>\n",
              "      <td>1.0</td>\n",
              "    </tr>\n",
              "  </tbody>\n",
              "</table>\n",
              "</div>\n",
              "      <button class=\"colab-df-convert\" onclick=\"convertToInteractive('df-378f2f3b-d7bb-4fbc-acb0-c9f5c07dd94d')\"\n",
              "              title=\"Convert this dataframe to an interactive table.\"\n",
              "              style=\"display:none;\">\n",
              "        \n",
              "  <svg xmlns=\"http://www.w3.org/2000/svg\" height=\"24px\"viewBox=\"0 0 24 24\"\n",
              "       width=\"24px\">\n",
              "    <path d=\"M0 0h24v24H0V0z\" fill=\"none\"/>\n",
              "    <path d=\"M18.56 5.44l.94 2.06.94-2.06 2.06-.94-2.06-.94-.94-2.06-.94 2.06-2.06.94zm-11 1L8.5 8.5l.94-2.06 2.06-.94-2.06-.94L8.5 2.5l-.94 2.06-2.06.94zm10 10l.94 2.06.94-2.06 2.06-.94-2.06-.94-.94-2.06-.94 2.06-2.06.94z\"/><path d=\"M17.41 7.96l-1.37-1.37c-.4-.4-.92-.59-1.43-.59-.52 0-1.04.2-1.43.59L10.3 9.45l-7.72 7.72c-.78.78-.78 2.05 0 2.83L4 21.41c.39.39.9.59 1.41.59.51 0 1.02-.2 1.41-.59l7.78-7.78 2.81-2.81c.8-.78.8-2.07 0-2.86zM5.41 20L4 18.59l7.72-7.72 1.47 1.35L5.41 20z\"/>\n",
              "  </svg>\n",
              "      </button>\n",
              "      \n",
              "  <style>\n",
              "    .colab-df-container {\n",
              "      display:flex;\n",
              "      flex-wrap:wrap;\n",
              "      gap: 12px;\n",
              "    }\n",
              "\n",
              "    .colab-df-convert {\n",
              "      background-color: #E8F0FE;\n",
              "      border: none;\n",
              "      border-radius: 50%;\n",
              "      cursor: pointer;\n",
              "      display: none;\n",
              "      fill: #1967D2;\n",
              "      height: 32px;\n",
              "      padding: 0 0 0 0;\n",
              "      width: 32px;\n",
              "    }\n",
              "\n",
              "    .colab-df-convert:hover {\n",
              "      background-color: #E2EBFA;\n",
              "      box-shadow: 0px 1px 2px rgba(60, 64, 67, 0.3), 0px 1px 3px 1px rgba(60, 64, 67, 0.15);\n",
              "      fill: #174EA6;\n",
              "    }\n",
              "\n",
              "    [theme=dark] .colab-df-convert {\n",
              "      background-color: #3B4455;\n",
              "      fill: #D2E3FC;\n",
              "    }\n",
              "\n",
              "    [theme=dark] .colab-df-convert:hover {\n",
              "      background-color: #434B5C;\n",
              "      box-shadow: 0px 1px 3px 1px rgba(0, 0, 0, 0.15);\n",
              "      filter: drop-shadow(0px 1px 2px rgba(0, 0, 0, 0.3));\n",
              "      fill: #FFFFFF;\n",
              "    }\n",
              "  </style>\n",
              "\n",
              "      <script>\n",
              "        const buttonEl =\n",
              "          document.querySelector('#df-378f2f3b-d7bb-4fbc-acb0-c9f5c07dd94d button.colab-df-convert');\n",
              "        buttonEl.style.display =\n",
              "          google.colab.kernel.accessAllowed ? 'block' : 'none';\n",
              "\n",
              "        async function convertToInteractive(key) {\n",
              "          const element = document.querySelector('#df-378f2f3b-d7bb-4fbc-acb0-c9f5c07dd94d');\n",
              "          const dataTable =\n",
              "            await google.colab.kernel.invokeFunction('convertToInteractive',\n",
              "                                                     [key], {});\n",
              "          if (!dataTable) return;\n",
              "\n",
              "          const docLinkHtml = 'Like what you see? Visit the ' +\n",
              "            '<a target=\"_blank\" href=https://colab.research.google.com/notebooks/data_table.ipynb>data table notebook</a>'\n",
              "            + ' to learn more about interactive tables.';\n",
              "          element.innerHTML = '';\n",
              "          dataTable['output_type'] = 'display_data';\n",
              "          await google.colab.output.renderOutput(dataTable, element);\n",
              "          const docLink = document.createElement('div');\n",
              "          docLink.innerHTML = docLinkHtml;\n",
              "          element.appendChild(docLink);\n",
              "        }\n",
              "      </script>\n",
              "    </div>\n",
              "  </div>\n",
              "  "
            ]
          },
          "metadata": {},
          "execution_count": 274
        }
      ]
    },
    {
      "cell_type": "code",
      "source": [
        "df1 = df.reset_index() ['close']"
      ],
      "metadata": {
        "id": "aSOXDkErmfMM"
      },
      "execution_count": null,
      "outputs": []
    },
    {
      "cell_type": "code",
      "source": [
        "df1.shape"
      ],
      "metadata": {
        "colab": {
          "base_uri": "https://localhost:8080/"
        },
        "id": "wyWRx58Nml-T",
        "outputId": "9a2d1aed-5b76-4181-bcd5-43b29f0d03ea"
      },
      "execution_count": null,
      "outputs": [
        {
          "output_type": "execute_result",
          "data": {
            "text/plain": [
              "(1257,)"
            ]
          },
          "metadata": {},
          "execution_count": 276
        }
      ]
    },
    {
      "cell_type": "code",
      "source": [
        "import matplotlib.pyplot as plt\n",
        "plt.plot(df1)"
      ],
      "metadata": {
        "colab": {
          "base_uri": "https://localhost:8080/",
          "height": 282
        },
        "id": "6hfbxeQSm0AC",
        "outputId": "2298d83d-94a9-4d36-f460-3ff3ec242e3e"
      },
      "execution_count": null,
      "outputs": [
        {
          "output_type": "execute_result",
          "data": {
            "text/plain": [
              "[<matplotlib.lines.Line2D at 0x7f1fa7950250>]"
            ]
          },
          "metadata": {},
          "execution_count": 277
        },
        {
          "output_type": "display_data",
          "data": {
            "text/plain": [
              "<Figure size 432x288 with 1 Axes>"
            ],
            "image/png": "[encoded data removed]"
          },
          "metadata": {
            "needs_background": "light"
          }
        }
      ]
    },
    {
      "cell_type": "markdown",
      "source": [
        "LSTM are sensitive to the scale of the data. So we apply MinMax scaler"
      ],
      "metadata": {
        "id": "TVHa-EvfnIID"
      }
    },
    {
      "cell_type": "code",
      "source": [
        "import numpy as np"
      ],
      "metadata": {
        "id": "hpPUCRJcnOiZ"
      },
      "execution_count": null,
      "outputs": []
    },
    {
      "cell_type": "code",
      "source": [
        "from sklearn.preprocessing import MinMaxScaler\n",
        "scaler = MinMaxScaler(feature_range=(0,1))\n",
        "df1 = scaler.fit_transform(np.array(df1).reshape(-1,1))"
      ],
      "metadata": {
        "id": "SGN6bz96nTCb"
      },
      "execution_count": null,
      "outputs": []
    },
    {
      "cell_type": "code",
      "source": [
        "df1.shape"
      ],
      "metadata": {
        "colab": {
          "base_uri": "https://localhost:8080/"
        },
        "id": "rIsrB29vn1t3",
        "outputId": "f2f7bd75-9fdb-4565-b2cd-f5f8ada7a2da"
      },
      "execution_count": null,
      "outputs": [
        {
          "output_type": "execute_result",
          "data": {
            "text/plain": [
              "(1257, 1)"
            ]
          },
          "metadata": {},
          "execution_count": 280
        }
      ]
    },
    {
      "cell_type": "code",
      "source": [
        "#Spliting dataset into train and test split\n",
        "training_size = int(len(df1)*0.65)\n",
        "test_size = len(df1)-training_size\n",
        "train_data,test_data = df1[0:training_size,:], df1[training_size:len(df1),:1]"
      ],
      "metadata": {
        "id": "IyTLolz6n9lb"
      },
      "execution_count": null,
      "outputs": []
    },
    {
      "cell_type": "code",
      "source": [
        "import numpy\n",
        "#converting the array of values into a dataset matrix\n",
        "\n",
        "def create_dataset(dataset, time_step=1):\n",
        "  dataX, dataY = [], []\n",
        "  for i in range(len(dataset)-time_step):\n",
        "    a = dataset[i:(i+time_step), 0]  # 1,2,3 ... 100 where y will get 101 value\n",
        "    dataX.append(a)\n",
        "    dataY.append(dataset[i+time_step, 0])\n",
        "  return numpy.array(dataX), numpy.array(dataY)"
      ],
      "metadata": {
        "id": "1FgpW6pCoY2I"
      },
      "execution_count": null,
      "outputs": []
    },
    {
      "cell_type": "code",
      "source": [
        "# reshape into X=t, t+1, t+2, t+3 and then Y=t+4\n",
        "time_step = 100\n",
        "X_train, y_train = create_dataset(train_data, time_step)\n",
        "X_test, ytest = create_dataset(test_data, time_step)"
      ],
      "metadata": {
        "id": "s584ynQtqEMW"
      },
      "execution_count": null,
      "outputs": []
    },
    {
      "cell_type": "code",
      "source": [
        "print(X_train)"
      ],
      "metadata": {
        "colab": {
          "base_uri": "https://localhost:8080/"
        },
        "id": "XStVQVHjrd7g",
        "outputId": "91beca6d-ddc8-48b4-d675-3e261543f46d"
      },
      "execution_count": null,
      "outputs": [
        {
          "output_type": "stream",
          "name": "stdout",
          "text": [
            "[[0.16445836 0.16884158 0.17024421 ... 0.15403882 0.14938009 0.15263619]\n",
            " [0.16884158 0.17024421 0.17382592 ... 0.14938009 0.15263619 0.14988103]\n",
            " [0.17024421 0.17382592 0.17292423 ... 0.15263619 0.14988103 0.15416406]\n",
            " ...\n",
            " [0.01497808 0.02624922 0.01665623 ... 0.0882154  0.07576706 0.06291797]\n",
            " [0.02624922 0.01665623 0.01292423 ... 0.07576706 0.06291797 0.06837821]\n",
            " [0.01665623 0.01292423 0.02132749 ... 0.06291797 0.06837821 0.0705072 ]]\n"
          ]
        }
      ]
    },
    {
      "cell_type": "code",
      "source": [
        "len(test_data)"
      ],
      "metadata": {
        "colab": {
          "base_uri": "https://localhost:8080/"
        },
        "id": "YQy43upJ4Y-l",
        "outputId": "820dfe0d-84cc-422e-ec7d-21ee506f80cc"
      },
      "execution_count": null,
      "outputs": [
        {
          "output_type": "execute_result",
          "data": {
            "text/plain": [
              "440"
            ]
          },
          "metadata": {},
          "execution_count": 285
        }
      ]
    },
    {
      "cell_type": "code",
      "source": [
        "print(X_test.shape), print(ytest.shape)"
      ],
      "metadata": {
        "colab": {
          "base_uri": "https://localhost:8080/"
        },
        "id": "iChnl0Cprhdv",
        "outputId": "d620d199-1b26-4daf-8c8c-4ca567d8e44d"
      },
      "execution_count": null,
      "outputs": [
        {
          "output_type": "stream",
          "name": "stdout",
          "text": [
            "(340, 100)\n",
            "(340,)\n"
          ]
        },
        {
          "output_type": "execute_result",
          "data": {
            "text/plain": [
              "(None, None)"
            ]
          },
          "metadata": {},
          "execution_count": 286
        }
      ]
    },
    {
      "cell_type": "markdown",
      "source": [
        "Data Preparation process is over.\n",
        "Next we need to create LSTM model"
      ],
      "metadata": {
        "id": "kPN6CIxusNDS"
      }
    },
    {
      "cell_type": "code",
      "source": [
        "from tensorflow.keras.models import Sequential\n",
        "from tensorflow.keras.layers import Dense\n",
        "from tensorflow.keras.layers import LSTM"
      ],
      "metadata": {
        "id": "PKDQxDXMsGJ_"
      },
      "execution_count": null,
      "outputs": []
    },
    {
      "cell_type": "code",
      "source": [
        "model=Sequential()\n",
        "model.add(LSTM(50,return_sequences=True, input_shape=(100,1)))\n",
        "model.add(LSTM(50,return_sequences=True))\n",
        "model.add(LSTM(50))\n",
        "model.add(Dense(1))\n",
        "model.summary()"
      ],
      "metadata": {
        "colab": {
          "base_uri": "https://localhost:8080/"
        },
        "id": "0hBbbKF8syTV",
        "outputId": "c6a4a05e-a506-41f4-e7ce-6839a6af8001"
      },
      "execution_count": null,
      "outputs": [
        {
          "output_type": "stream",
          "name": "stdout",
          "text": [
            "Model: \"sequential_5\"\n",
            "_________________________________________________________________\n",
            " Layer (type)                Output Shape              Param #   \n",
            "=================================================================\n",
            " lstm_15 (LSTM)              (None, 100, 50)           10400     \n",
            "                                                                 \n",
            " lstm_16 (LSTM)              (None, 100, 50)           20200     \n",
            "                                                                 \n",
            " lstm_17 (LSTM)              (None, 50)                20200     \n",
            "                                                                 \n",
            " dense_5 (Dense)             (None, 1)                 51        \n",
            "                                                                 \n",
            "=================================================================\n",
            "Total params: 50,851\n",
            "Trainable params: 50,851\n",
            "Non-trainable params: 0\n",
            "_________________________________________________________________\n"
          ]
        }
      ]
    },
    {
      "cell_type": "code",
      "source": [
        "model.compile(loss='mean_squared_error', optimizer='adam')"
      ],
      "metadata": {
        "id": "INudJwBfuSEp"
      },
      "execution_count": null,
      "outputs": []
    },
    {
      "cell_type": "code",
      "source": [
        "model.fit(X_train,y_train,validation_data=(X_test,ytest), epochs=100, batch_size=64, verbose=1)"
      ],
      "metadata": {
        "colab": {
          "base_uri": "https://localhost:8080/"
        },
        "id": "rEgq18d4ub7e",
        "outputId": "e74583af-1fe5-4144-cd3c-dd20c0653040"
      },
      "execution_count": null,
      "outputs": [
        {
          "output_type": "stream",
          "name": "stdout",
          "text": [
            "Epoch 1/100\n",
            "12/12 [==============================] - 13s 408ms/step - loss: 0.0558 - val_loss: 0.0097\n",
            "Epoch 2/100\n",
            "12/12 [==============================] - 3s 253ms/step - loss: 0.0146 - val_loss: 0.0061\n",
            "Epoch 3/100\n",
            "12/12 [==============================] - 3s 239ms/step - loss: 0.0120 - val_loss: 5.8924e-04\n",
            "Epoch 4/100\n",
            "12/12 [==============================] - 3s 238ms/step - loss: 0.0099 - val_loss: 3.5921e-04\n",
            "Epoch 5/100\n",
            "12/12 [==============================] - 3s 242ms/step - loss: 0.0089 - val_loss: 4.8571e-04\n",
            "Epoch 6/100\n",
            "12/12 [==============================] - 3s 243ms/step - loss: 0.0076 - val_loss: 5.9528e-04\n",
            "Epoch 7/100\n",
            "12/12 [==============================] - 3s 240ms/step - loss: 0.0064 - val_loss: 4.3462e-04\n",
            "Epoch 8/100\n",
            "12/12 [==============================] - 3s 239ms/step - loss: 0.0070 - val_loss: 3.1085e-04\n",
            "Epoch 9/100\n",
            "12/12 [==============================] - 3s 234ms/step - loss: 0.0057 - val_loss: 6.7080e-04\n",
            "Epoch 10/100\n",
            "12/12 [==============================] - 3s 239ms/step - loss: 0.0069 - val_loss: 3.1915e-04\n",
            "Epoch 11/100\n",
            "12/12 [==============================] - 4s 348ms/step - loss: 0.0049 - val_loss: 0.0013\n",
            "Epoch 12/100\n",
            "12/12 [==============================] - 3s 231ms/step - loss: 0.0050 - val_loss: 7.5874e-04\n",
            "Epoch 13/100\n",
            "12/12 [==============================] - 3s 240ms/step - loss: 0.0041 - val_loss: 3.6110e-04\n",
            "Epoch 14/100\n",
            "12/12 [==============================] - 3s 240ms/step - loss: 0.0031 - val_loss: 3.5975e-04\n",
            "Epoch 15/100\n",
            "12/12 [==============================] - 3s 250ms/step - loss: 0.0035 - val_loss: 8.5209e-04\n",
            "Epoch 16/100\n",
            "12/12 [==============================] - 3s 254ms/step - loss: 0.0027 - val_loss: 4.8098e-04\n",
            "Epoch 17/100\n",
            "12/12 [==============================] - 3s 254ms/step - loss: 0.0035 - val_loss: 2.9513e-04\n",
            "Epoch 18/100\n",
            "12/12 [==============================] - 3s 235ms/step - loss: 0.0028 - val_loss: 2.7621e-04\n",
            "Epoch 19/100\n",
            "12/12 [==============================] - 3s 239ms/step - loss: 0.0025 - val_loss: 2.8311e-04\n",
            "Epoch 20/100\n",
            "12/12 [==============================] - 3s 243ms/step - loss: 0.0025 - val_loss: 2.7219e-04\n",
            "Epoch 21/100\n",
            "12/12 [==============================] - 3s 250ms/step - loss: 0.0021 - val_loss: 2.5065e-04\n",
            "Epoch 22/100\n",
            "12/12 [==============================] - 3s 240ms/step - loss: 0.0019 - val_loss: 2.6246e-04\n",
            "Epoch 23/100\n",
            "12/12 [==============================] - 3s 246ms/step - loss: 0.0019 - val_loss: 2.7830e-04\n",
            "Epoch 24/100\n",
            "12/12 [==============================] - 3s 252ms/step - loss: 0.0023 - val_loss: 2.5153e-04\n",
            "Epoch 25/100\n",
            "12/12 [==============================] - 3s 249ms/step - loss: 0.0017 - val_loss: 2.6179e-04\n",
            "Epoch 26/100\n",
            "12/12 [==============================] - 3s 251ms/step - loss: 0.0088 - val_loss: 2.3300e-04\n",
            "Epoch 27/100\n",
            "12/12 [==============================] - 3s 244ms/step - loss: 0.0061 - val_loss: 9.7785e-04\n",
            "Epoch 28/100\n",
            "12/12 [==============================] - 3s 250ms/step - loss: 0.0042 - val_loss: 2.9019e-04\n",
            "Epoch 29/100\n",
            "12/12 [==============================] - 3s 257ms/step - loss: 0.0033 - val_loss: 3.0977e-04\n",
            "Epoch 30/100\n",
            "12/12 [==============================] - 3s 246ms/step - loss: 0.0046 - val_loss: 4.0259e-04\n",
            "Epoch 31/100\n",
            "12/12 [==============================] - 4s 347ms/step - loss: 0.0038 - val_loss: 6.6566e-04\n",
            "Epoch 32/100\n",
            "12/12 [==============================] - 3s 241ms/step - loss: 0.0031 - val_loss: 2.6410e-04\n",
            "Epoch 33/100\n",
            "12/12 [==============================] - 3s 241ms/step - loss: 0.0027 - val_loss: 3.5822e-04\n",
            "Epoch 34/100\n",
            "12/12 [==============================] - 3s 238ms/step - loss: 0.0023 - val_loss: 2.6780e-04\n",
            "Epoch 35/100\n",
            "12/12 [==============================] - 3s 236ms/step - loss: 0.0025 - val_loss: 3.8036e-04\n",
            "Epoch 36/100\n",
            "12/12 [==============================] - 3s 235ms/step - loss: 0.0022 - val_loss: 2.3549e-04\n",
            "Epoch 37/100\n",
            "12/12 [==============================] - 3s 234ms/step - loss: 0.0020 - val_loss: 2.3422e-04\n",
            "Epoch 38/100\n",
            "12/12 [==============================] - 3s 232ms/step - loss: 0.0019 - val_loss: 2.3795e-04\n",
            "Epoch 39/100\n",
            "12/12 [==============================] - 3s 230ms/step - loss: 0.0018 - val_loss: 2.5824e-04\n",
            "Epoch 40/100\n",
            "12/12 [==============================] - 3s 230ms/step - loss: 0.0019 - val_loss: 2.4932e-04\n",
            "Epoch 41/100\n",
            "12/12 [==============================] - 3s 230ms/step - loss: 0.0018 - val_loss: 2.4648e-04\n",
            "Epoch 42/100\n",
            "12/12 [==============================] - 3s 235ms/step - loss: 0.0018 - val_loss: 2.7359e-04\n",
            "Epoch 43/100\n",
            "12/12 [==============================] - 3s 239ms/step - loss: 0.0017 - val_loss: 2.4421e-04\n",
            "Epoch 44/100\n",
            "12/12 [==============================] - 3s 232ms/step - loss: 0.0032 - val_loss: 2.5675e-04\n",
            "Epoch 45/100\n",
            "12/12 [==============================] - 3s 231ms/step - loss: 0.0020 - val_loss: 2.3423e-04\n",
            "Epoch 46/100\n",
            "12/12 [==============================] - 3s 236ms/step - loss: 0.0017 - val_loss: 2.9948e-04\n",
            "Epoch 47/100\n",
            "12/12 [==============================] - 3s 237ms/step - loss: 0.0022 - val_loss: 4.6240e-04\n",
            "Epoch 48/100\n",
            "12/12 [==============================] - 3s 234ms/step - loss: 0.0018 - val_loss: 2.4182e-04\n",
            "Epoch 49/100\n",
            "12/12 [==============================] - 3s 242ms/step - loss: 0.0017 - val_loss: 2.3878e-04\n",
            "Epoch 50/100\n",
            "12/12 [==============================] - 3s 235ms/step - loss: 0.0017 - val_loss: 2.2786e-04\n",
            "Epoch 51/100\n",
            "12/12 [==============================] - 4s 339ms/step - loss: 0.0024 - val_loss: 3.1094e-04\n",
            "Epoch 52/100\n",
            "12/12 [==============================] - 3s 229ms/step - loss: 0.0016 - val_loss: 2.5274e-04\n",
            "Epoch 53/100\n",
            "12/12 [==============================] - 3s 234ms/step - loss: 0.0024 - val_loss: 2.3876e-04\n",
            "Epoch 54/100\n",
            "12/12 [==============================] - 3s 234ms/step - loss: 0.0024 - val_loss: 2.3157e-04\n",
            "Epoch 55/100\n",
            "12/12 [==============================] - 3s 232ms/step - loss: 0.0018 - val_loss: 2.3713e-04\n",
            "Epoch 56/100\n",
            "12/12 [==============================] - 3s 231ms/step - loss: 0.0035 - val_loss: 2.9564e-04\n",
            "Epoch 57/100\n",
            "12/12 [==============================] - 3s 234ms/step - loss: 0.0026 - val_loss: 3.0183e-04\n",
            "Epoch 58/100\n",
            "12/12 [==============================] - 3s 234ms/step - loss: 0.0023 - val_loss: 2.8722e-04\n",
            "Epoch 59/100\n",
            "12/12 [==============================] - 3s 245ms/step - loss: 0.0022 - val_loss: 3.3179e-04\n",
            "Epoch 60/100\n",
            "12/12 [==============================] - 3s 240ms/step - loss: 0.0021 - val_loss: 3.9126e-04\n",
            "Epoch 61/100\n",
            "12/12 [==============================] - 3s 235ms/step - loss: 0.0019 - val_loss: 2.2919e-04\n",
            "Epoch 62/100\n",
            "12/12 [==============================] - 3s 237ms/step - loss: 0.0017 - val_loss: 2.3748e-04\n",
            "Epoch 63/100\n",
            "12/12 [==============================] - 3s 232ms/step - loss: 0.0016 - val_loss: 2.3828e-04\n",
            "Epoch 64/100\n",
            "12/12 [==============================] - 3s 239ms/step - loss: 0.0017 - val_loss: 3.1801e-04\n",
            "Epoch 65/100\n",
            "12/12 [==============================] - 3s 233ms/step - loss: 0.0015 - val_loss: 2.6016e-04\n",
            "Epoch 66/100\n",
            "12/12 [==============================] - 3s 238ms/step - loss: 0.0021 - val_loss: 7.5032e-04\n",
            "Epoch 67/100\n",
            "12/12 [==============================] - 3s 232ms/step - loss: 0.0021 - val_loss: 2.6096e-04\n",
            "Epoch 68/100\n",
            "12/12 [==============================] - 3s 238ms/step - loss: 0.0023 - val_loss: 2.4474e-04\n",
            "Epoch 69/100\n",
            "12/12 [==============================] - 3s 236ms/step - loss: 0.0019 - val_loss: 2.3468e-04\n",
            "Epoch 70/100\n",
            "12/12 [==============================] - 3s 250ms/step - loss: 0.0018 - val_loss: 2.8600e-04\n",
            "Epoch 71/100\n",
            "12/12 [==============================] - 4s 319ms/step - loss: 0.0015 - val_loss: 2.5362e-04\n",
            "Epoch 72/100\n",
            "12/12 [==============================] - 3s 277ms/step - loss: 0.0016 - val_loss: 3.9502e-04\n",
            "Epoch 73/100\n",
            "12/12 [==============================] - 3s 283ms/step - loss: 0.0016 - val_loss: 2.3639e-04\n",
            "Epoch 74/100\n",
            "12/12 [==============================] - 3s 232ms/step - loss: 0.0015 - val_loss: 2.6243e-04\n",
            "Epoch 75/100\n",
            "12/12 [==============================] - 3s 236ms/step - loss: 0.0018 - val_loss: 2.6549e-04\n",
            "Epoch 76/100\n",
            "12/12 [==============================] - 3s 232ms/step - loss: 0.0044 - val_loss: 0.0016\n",
            "Epoch 77/100\n",
            "12/12 [==============================] - 3s 236ms/step - loss: 0.0053 - val_loss: 2.8465e-04\n",
            "Epoch 78/100\n",
            "12/12 [==============================] - 3s 240ms/step - loss: 0.0037 - val_loss: 5.2927e-04\n",
            "Epoch 79/100\n",
            "12/12 [==============================] - 3s 233ms/step - loss: 0.0035 - val_loss: 3.3363e-04\n",
            "Epoch 80/100\n",
            "12/12 [==============================] - 3s 242ms/step - loss: 0.0026 - val_loss: 2.6967e-04\n",
            "Epoch 81/100\n",
            "12/12 [==============================] - 3s 239ms/step - loss: 0.0022 - val_loss: 2.4376e-04\n",
            "Epoch 82/100\n",
            "12/12 [==============================] - 3s 237ms/step - loss: 0.0018 - val_loss: 2.6037e-04\n",
            "Epoch 83/100\n",
            "12/12 [==============================] - 3s 241ms/step - loss: 0.0017 - val_loss: 2.3077e-04\n",
            "Epoch 84/100\n",
            "12/12 [==============================] - 3s 238ms/step - loss: 0.0019 - val_loss: 2.2231e-04\n",
            "Epoch 85/100\n",
            "12/12 [==============================] - 3s 243ms/step - loss: 0.0015 - val_loss: 2.5156e-04\n",
            "Epoch 86/100\n",
            "12/12 [==============================] - 3s 247ms/step - loss: 0.0016 - val_loss: 2.2598e-04\n",
            "Epoch 87/100\n",
            "12/12 [==============================] - 3s 246ms/step - loss: 0.0015 - val_loss: 2.2463e-04\n",
            "Epoch 88/100\n",
            "12/12 [==============================] - 3s 246ms/step - loss: 0.0013 - val_loss: 2.3159e-04\n",
            "Epoch 89/100\n",
            "12/12 [==============================] - 3s 249ms/step - loss: 0.0015 - val_loss: 2.4346e-04\n",
            "Epoch 90/100\n",
            "12/12 [==============================] - 4s 358ms/step - loss: 0.0014 - val_loss: 2.9309e-04\n",
            "Epoch 91/100\n",
            "12/12 [==============================] - 3s 249ms/step - loss: 0.0013 - val_loss: 2.2137e-04\n",
            "Epoch 92/100\n",
            "12/12 [==============================] - 3s 242ms/step - loss: 0.0013 - val_loss: 2.2540e-04\n",
            "Epoch 93/100\n",
            "12/12 [==============================] - 3s 242ms/step - loss: 0.0012 - val_loss: 2.5212e-04\n",
            "Epoch 94/100\n",
            "12/12 [==============================] - 3s 244ms/step - loss: 0.0012 - val_loss: 2.2908e-04\n",
            "Epoch 95/100\n",
            "12/12 [==============================] - 3s 238ms/step - loss: 0.0013 - val_loss: 2.6282e-04\n",
            "Epoch 96/100\n",
            "12/12 [==============================] - 3s 247ms/step - loss: 0.0011 - val_loss: 2.2154e-04\n",
            "Epoch 97/100\n",
            "12/12 [==============================] - 3s 241ms/step - loss: 0.0012 - val_loss: 2.2593e-04\n",
            "Epoch 98/100\n",
            "12/12 [==============================] - 3s 240ms/step - loss: 0.0016 - val_loss: 2.0863e-04\n",
            "Epoch 99/100\n",
            "12/12 [==============================] - 3s 242ms/step - loss: 0.0016 - val_loss: 2.6137e-04\n",
            "Epoch 100/100\n",
            "12/12 [==============================] - 3s 242ms/step - loss: 0.0012 - val_loss: 2.1954e-04\n"
          ]
        },
        {
          "output_type": "execute_result",
          "data": {
            "text/plain": [
              "<keras.callbacks.History at 0x7f1fa7703b90>"
            ]
          },
          "metadata": {},
          "execution_count": 290
        }
      ]
    },
    {
      "cell_type": "code",
      "source": [
        "import tensorflow as tf\n",
        "tf.__version__"
      ],
      "metadata": {
        "colab": {
          "base_uri": "https://localhost:8080/",
          "height": 36
        },
        "id": "mFk6R-93wqfq",
        "outputId": "366e54d8-49b7-4e20-f233-e72d8173a0ea"
      },
      "execution_count": null,
      "outputs": [
        {
          "output_type": "execute_result",
          "data": {
            "text/plain": [
              "'2.9.2'"
            ],
            "application/vnd.google.colaboratory.intrinsic+json": {
              "type": "string"
            }
          },
          "metadata": {},
          "execution_count": 291
        }
      ]
    },
    {
      "cell_type": "code",
      "source": [
        "## Lets Do the prediction and check performance metrics\n",
        "train_predict = model.predict(X_train)\n",
        "test_predict = model.predict(X_test)"
      ],
      "metadata": {
        "colab": {
          "base_uri": "https://localhost:8080/"
        },
        "id": "rbAyza3xwzAC",
        "outputId": "f82f60c7-1e37-44d9-f93f-044efad8d24f"
      },
      "execution_count": null,
      "outputs": [
        {
          "output_type": "stream",
          "name": "stdout",
          "text": [
            "23/23 [==============================] - 3s 42ms/step\n",
            "11/11 [==============================] - 1s 45ms/step\n"
          ]
        }
      ]
    },
    {
      "cell_type": "code",
      "source": [
        "train_predict=scaler.inverse_transform(train_predict)\n",
        "test_predict=scaler.inverse_transform(test_predict)"
      ],
      "metadata": {
        "id": "c-bgW4VAxGgY"
      },
      "execution_count": null,
      "outputs": []
    },
    {
      "cell_type": "code",
      "source": [
        "import math\n",
        "from sklearn.metrics import mean_squared_error\n",
        "math.sqrt(mean_squared_error(y_train, train_predict))"
      ],
      "metadata": {
        "colab": {
          "base_uri": "https://localhost:8080/"
        },
        "id": "OamVIaFTxvGA",
        "outputId": "4873a346-aaa3-400d-b6f7-499936c0f70a"
      },
      "execution_count": null,
      "outputs": [
        {
          "output_type": "execute_result",
          "data": {
            "text/plain": [
              "232.230884510943"
            ]
          },
          "metadata": {},
          "execution_count": 294
        }
      ]
    },
    {
      "cell_type": "code",
      "source": [
        "# Test Data RMSE\n",
        "math.sqrt(mean_squared_error(ytest, test_predict))"
      ],
      "metadata": {
        "colab": {
          "base_uri": "https://localhost:8080/"
        },
        "id": "3-B08sI2x8k1",
        "outputId": "059d5223-3fbc-4753-a482-6e6a7972c5f7"
      },
      "execution_count": null,
      "outputs": [
        {
          "output_type": "execute_result",
          "data": {
            "text/plain": [
              "156.7315051796269"
            ]
          },
          "metadata": {},
          "execution_count": 295
        }
      ]
    },
    {
      "cell_type": "markdown",
      "source": [
        "Since the value is around 157 the prediction might be good."
      ],
      "metadata": {
        "id": "gY4u2-ekz60q"
      }
    },
    {
      "cell_type": "code",
      "source": [
        "#Plotting\n",
        "#shift train predictions for plotting\n",
        "look_back = 100\n",
        "trainPredictPlot = numpy.empty_like(df1)\n",
        "trainPredictPlot[:, :] = np.nan\n",
        "trainPredictPlot[look_back:len(train_predict)+look_back, :] = train_predict\n",
        "#shift test predict for plotting\n",
        "testPredictPlot = numpy.empty_like(df1)\n",
        "testPredictPlot[:, :] = numpy.nan\n",
        "testPredictPlot[len(train_predict)+(look_back*2):len(df1), :] = test_predict\n",
        "#plot baseline and predictions\n",
        "plt.plot(scaler.inverse_transform(df1))\n",
        "plt.plot(trainPredictPlot)\n",
        "plt.plot(testPredictPlot)\n",
        "plt.show()"
      ],
      "metadata": {
        "colab": {
          "base_uri": "https://localhost:8080/",
          "height": 265
        },
        "id": "F1N0g1Nlz4Rs",
        "outputId": "aac23e41-239f-436c-e013-de3d88916f1d"
      },
      "execution_count": null,
      "outputs": [
        {
          "output_type": "display_data",
          "data": {
            "text/plain": [
              "<Figure size 432x288 with 1 Axes>"
            ],
            "image/png": "[encoded data removed]"
          },
          "metadata": {
            "needs_background": "light"
          }
        }
      ]
    },
    {
      "cell_type": "markdown",
      "source": [
        "We have predicted the output. And next we are going to be predicting the next future 30 days"
      ],
      "metadata": {
        "id": "2Q3_7dql3QND"
      }
    },
    {
      "cell_type": "code",
      "source": [
        "len(test_data)"
      ],
      "metadata": {
        "colab": {
          "base_uri": "https://localhost:8080/"
        },
        "id": "4B4_DyB232u3",
        "outputId": "2c636d4f-d7da-47ad-8aa3-15be98487f66"
      },
      "execution_count": null,
      "outputs": [
        {
          "output_type": "execute_result",
          "data": {
            "text/plain": [
              "440"
            ]
          },
          "metadata": {},
          "execution_count": 297
        }
      ]
    },
    {
      "cell_type": "code",
      "source": [
        "x_input=test_data[340:].reshape(1,-1)\n",
        "x_input.shape"
      ],
      "metadata": {
        "colab": {
          "base_uri": "https://localhost:8080/"
        },
        "id": "OSyRVuRK3L1f",
        "outputId": "20a49878-6a0a-433f-9aa0-951c39cf1c7a"
      },
      "execution_count": null,
      "outputs": [
        {
          "output_type": "execute_result",
          "data": {
            "text/plain": [
              "(1, 100)"
            ]
          },
          "metadata": {},
          "execution_count": 298
        }
      ]
    },
    {
      "cell_type": "code",
      "source": [
        "x_input=test_data[340:].reshape(1,-1)"
      ],
      "metadata": {
        "id": "sUlmgJBI3mCZ"
      },
      "execution_count": null,
      "outputs": []
    },
    {
      "cell_type": "code",
      "source": [
        "x_input.shape"
      ],
      "metadata": {
        "colab": {
          "base_uri": "https://localhost:8080/"
        },
        "id": "vK-LRI5G3tyR",
        "outputId": "54b39155-ba12-4f44-bcd8-2403b8ccc538"
      },
      "execution_count": null,
      "outputs": [
        {
          "output_type": "execute_result",
          "data": {
            "text/plain": [
              "(1, 100)"
            ]
          },
          "metadata": {},
          "execution_count": 300
        }
      ]
    },
    {
      "cell_type": "code",
      "source": [
        "temp_input = list(x_input)\n",
        "temp_input = temp_input[0].tolist()"
      ],
      "metadata": {
        "id": "NTrtjHmdENq_"
      },
      "execution_count": null,
      "outputs": []
    },
    {
      "cell_type": "code",
      "source": [
        "len(temp_input)"
      ],
      "metadata": {
        "colab": {
          "base_uri": "https://localhost:8080/"
        },
        "id": "9ee9KWXPGoU7",
        "outputId": "7a478250-b3b1-4ae7-a4ab-c87ec9d48c13"
      },
      "execution_count": null,
      "outputs": [
        {
          "output_type": "execute_result",
          "data": {
            "text/plain": [
              "100"
            ]
          },
          "metadata": {},
          "execution_count": 302
        }
      ]
    },
    {
      "cell_type": "code",
      "source": [
        "from numpy import array\n",
        "\n",
        "lst_output=[]\n",
        "n_steps = 100\n",
        "i=0\n",
        "while(i<30):\n",
        "  if(len(temp_input)>100):\n",
        "    #print(temp_input)\n",
        "    x_input=np.array(temp_input[1:])\n",
        "    print(\"{} day input {}\".format(i,x_input))\n",
        "    x_input=x_input.reshape(1,-1)\n",
        "    x_input=x_input.reshape((1,n_steps,1))\n",
        "    #print(x_input)\n",
        "    yhat = model.predict(x_input, verbose=0)\n",
        "    print(\"{} day output {}\".format(i,yhat))\n",
        "    temp_input.extend(yhat[0].tolist())\n",
        "    temp_input=temp_input[1:]\n",
        "    #print(temp_input)\n",
        "    lst_output.extend(yhat.tolist())\n",
        "    i=i+1\n",
        "  else:\n",
        "    x_input=x_input.reshape((1, n_steps,1))\n",
        "    yhat = model.predict(x_input,verbose=0)\n",
        "    print(yhat[0])\n",
        "    temp_input.extend(yhat[0].tolist())\n",
        "    print(len(temp_input))\n",
        "    lst_output.extend(yhat.tolist())\n",
        "    i=i+1\n",
        "\n",
        "print(lst_output)"
      ],
      "metadata": {
        "colab": {
          "base_uri": "https://localhost:8080/"
        },
        "id": "D0MwcRLQEZ1A",
        "outputId": "203b39b9-735e-4384-e983-53ac6ee66a29"
      },
      "execution_count": null,
      "outputs": [
        {
          "output_type": "stream",
          "name": "stdout",
          "text": [
            "[0.10876714]\n",
            "101\n",
            "1 day input [0.0627176  0.06492173 0.07160927 0.05815905 0.06191609 0.07271133\n",
            " 0.07140889 0.0787226  0.08721353 0.08721353 0.07664371 0.08112711\n",
            " 0.07484033 0.0803757  0.08696306 0.09036944 0.09896055 0.10068879\n",
            " 0.0952536  0.09773325 0.09680651 0.10427051 0.10852849 0.10076393\n",
            " 0.11060739 0.11571697 0.12150282 0.1183469  0.11549155 0.11211021\n",
            " 0.12510958 0.12651221 0.13943644 0.13693175 0.1331747  0.14850344\n",
            " 0.14770194 0.14654978 0.14534753 0.14547276 0.15629305 0.15441453\n",
            " 0.16345648 0.1661866  0.16578585 0.16959299 0.16859111 0.16200376\n",
            " 0.15211021 0.15125861 0.15201002 0.15827176 0.14221666 0.13660614\n",
            " 0.13041954 0.1261866  0.12804008 0.12265498 0.11944897 0.12303068\n",
            " 0.11927364 0.1265623  0.14174076 0.11772073 0.12140263 0.11403882\n",
            " 0.10985598 0.11932373 0.1253851  0.11742016 0.11496556 0.10917971\n",
            " 0.11003131 0.11251096 0.10770194 0.08926738 0.07854728 0.08919224\n",
            " 0.09833438 0.09908579 0.09665623 0.08328115 0.0841077  0.08050094\n",
            " 0.07889793 0.09054477 0.07899812 0.08909205 0.09244834 0.09272386\n",
            " 0.09154665 0.10126487 0.10672511 0.11396368 0.10647464 0.09507827\n",
            " 0.12247965 0.11646838 0.10973075 0.10876714]\n",
            "1 day output [[0.11072903]]\n",
            "2 day input [0.06492173 0.07160927 0.05815905 0.06191609 0.07271133 0.07140889\n",
            " 0.0787226  0.08721353 0.08721353 0.07664371 0.08112711 0.07484033\n",
            " 0.0803757  0.08696306 0.09036944 0.09896055 0.10068879 0.0952536\n",
            " 0.09773325 0.09680651 0.10427051 0.10852849 0.10076393 0.11060739\n",
            " 0.11571697 0.12150282 0.1183469  0.11549155 0.11211021 0.12510958\n",
            " 0.12651221 0.13943644 0.13693175 0.1331747  0.14850344 0.14770194\n",
            " 0.14654978 0.14534753 0.14547276 0.15629305 0.15441453 0.16345648\n",
            " 0.1661866  0.16578585 0.16959299 0.16859111 0.16200376 0.15211021\n",
            " 0.15125861 0.15201002 0.15827176 0.14221666 0.13660614 0.13041954\n",
            " 0.1261866  0.12804008 0.12265498 0.11944897 0.12303068 0.11927364\n",
            " 0.1265623  0.14174076 0.11772073 0.12140263 0.11403882 0.10985598\n",
            " 0.11932373 0.1253851  0.11742016 0.11496556 0.10917971 0.11003131\n",
            " 0.11251096 0.10770194 0.08926738 0.07854728 0.08919224 0.09833438\n",
            " 0.09908579 0.09665623 0.08328115 0.0841077  0.08050094 0.07889793\n",
            " 0.09054477 0.07899812 0.08909205 0.09244834 0.09272386 0.09154665\n",
            " 0.10126487 0.10672511 0.11396368 0.10647464 0.09507827 0.12247965\n",
            " 0.11646838 0.10973075 0.10876714 0.11072903]\n",
            "2 day output [[0.11228808]]\n",
            "3 day input [0.07160927 0.05815905 0.06191609 0.07271133 0.07140889 0.0787226\n",
            " 0.08721353 0.08721353 0.07664371 0.08112711 0.07484033 0.0803757\n",
            " 0.08696306 0.09036944 0.09896055 0.10068879 0.0952536  0.09773325\n",
            " 0.09680651 0.10427051 0.10852849 0.10076393 0.11060739 0.11571697\n",
            " 0.12150282 0.1183469  0.11549155 0.11211021 0.12510958 0.12651221\n",
            " 0.13943644 0.13693175 0.1331747  0.14850344 0.14770194 0.14654978\n",
            " 0.14534753 0.14547276 0.15629305 0.15441453 0.16345648 0.1661866\n",
            " 0.16578585 0.16959299 0.16859111 0.16200376 0.15211021 0.15125861\n",
            " 0.15201002 0.15827176 0.14221666 0.13660614 0.13041954 0.1261866\n",
            " 0.12804008 0.12265498 0.11944897 0.12303068 0.11927364 0.1265623\n",
            " 0.14174076 0.11772073 0.12140263 0.11403882 0.10985598 0.11932373\n",
            " 0.1253851  0.11742016 0.11496556 0.10917971 0.11003131 0.11251096\n",
            " 0.10770194 0.08926738 0.07854728 0.08919224 0.09833438 0.09908579\n",
            " 0.09665623 0.08328115 0.0841077  0.08050094 0.07889793 0.09054477\n",
            " 0.07899812 0.08909205 0.09244834 0.09272386 0.09154665 0.10126487\n",
            " 0.10672511 0.11396368 0.10647464 0.09507827 0.12247965 0.11646838\n",
            " 0.10973075 0.10876714 0.11072903 0.11228808]\n",
            "3 day output [[0.113508]]\n",
            "4 day input [0.05815905 0.06191609 0.07271133 0.07140889 0.0787226  0.08721353\n",
            " 0.08721353 0.07664371 0.08112711 0.07484033 0.0803757  0.08696306\n",
            " 0.09036944 0.09896055 0.10068879 0.0952536  0.09773325 0.09680651\n",
            " 0.10427051 0.10852849 0.10076393 0.11060739 0.11571697 0.12150282\n",
            " 0.1183469  0.11549155 0.11211021 0.12510958 0.12651221 0.13943644\n",
            " 0.13693175 0.1331747  0.14850344 0.14770194 0.14654978 0.14534753\n",
            " 0.14547276 0.15629305 0.15441453 0.16345648 0.1661866  0.16578585\n",
            " 0.16959299 0.16859111 0.16200376 0.15211021 0.15125861 0.15201002\n",
            " 0.15827176 0.14221666 0.13660614 0.13041954 0.1261866  0.12804008\n",
            " 0.12265498 0.11944897 0.12303068 0.11927364 0.1265623  0.14174076\n",
            " 0.11772073 0.12140263 0.11403882 0.10985598 0.11932373 0.1253851\n",
            " 0.11742016 0.11496556 0.10917971 0.11003131 0.11251096 0.10770194\n",
            " 0.08926738 0.07854728 0.08919224 0.09833438 0.09908579 0.09665623\n",
            " 0.08328115 0.0841077  0.08050094 0.07889793 0.09054477 0.07899812\n",
            " 0.08909205 0.09244834 0.09272386 0.09154665 0.10126487 0.10672511\n",
            " 0.11396368 0.10647464 0.09507827 0.12247965 0.11646838 0.10973075\n",
            " 0.10876714 0.11072903 0.11228808 0.113508  ]\n",
            "4 day output [[0.11447322]]\n",
            "5 day input [0.06191609 0.07271133 0.07140889 0.0787226  0.08721353 0.08721353\n",
            " 0.07664371 0.08112711 0.07484033 0.0803757  0.08696306 0.09036944\n",
            " 0.09896055 0.10068879 0.0952536  0.09773325 0.09680651 0.10427051\n",
            " 0.10852849 0.10076393 0.11060739 0.11571697 0.12150282 0.1183469\n",
            " 0.11549155 0.11211021 0.12510958 0.12651221 0.13943644 0.13693175\n",
            " 0.1331747  0.14850344 0.14770194 0.14654978 0.14534753 0.14547276\n",
            " 0.15629305 0.15441453 0.16345648 0.1661866  0.16578585 0.16959299\n",
            " 0.16859111 0.16200376 0.15211021 0.15125861 0.15201002 0.15827176\n",
            " 0.14221666 0.13660614 0.13041954 0.1261866  0.12804008 0.12265498\n",
            " 0.11944897 0.12303068 0.11927364 0.1265623  0.14174076 0.11772073\n",
            " 0.12140263 0.11403882 0.10985598 0.11932373 0.1253851  0.11742016\n",
            " 0.11496556 0.10917971 0.11003131 0.11251096 0.10770194 0.08926738\n",
            " 0.07854728 0.08919224 0.09833438 0.09908579 0.09665623 0.08328115\n",
            " 0.0841077  0.08050094 0.07889793 0.09054477 0.07899812 0.08909205\n",
            " 0.09244834 0.09272386 0.09154665 0.10126487 0.10672511 0.11396368\n",
            " 0.10647464 0.09507827 0.12247965 0.11646838 0.10973075 0.10876714\n",
            " 0.11072903 0.11228808 0.113508   0.11447322]\n",
            "5 day output [[0.11526161]]\n",
            "6 day input [0.07271133 0.07140889 0.0787226  0.08721353 0.08721353 0.07664371\n",
            " 0.08112711 0.07484033 0.0803757  0.08696306 0.09036944 0.09896055\n",
            " 0.10068879 0.0952536  0.09773325 0.09680651 0.10427051 0.10852849\n",
            " 0.10076393 0.11060739 0.11571697 0.12150282 0.1183469  0.11549155\n",
            " 0.11211021 0.12510958 0.12651221 0.13943644 0.13693175 0.1331747\n",
            " 0.14850344 0.14770194 0.14654978 0.14534753 0.14547276 0.15629305\n",
            " 0.15441453 0.16345648 0.1661866  0.16578585 0.16959299 0.16859111\n",
            " 0.16200376 0.15211021 0.15125861 0.15201002 0.15827176 0.14221666\n",
            " 0.13660614 0.13041954 0.1261866  0.12804008 0.12265498 0.11944897\n",
            " 0.12303068 0.11927364 0.1265623  0.14174076 0.11772073 0.12140263\n",
            " 0.11403882 0.10985598 0.11932373 0.1253851  0.11742016 0.11496556\n",
            " 0.10917971 0.11003131 0.11251096 0.10770194 0.08926738 0.07854728\n",
            " 0.08919224 0.09833438 0.09908579 0.09665623 0.08328115 0.0841077\n",
            " 0.08050094 0.07889793 0.09054477 0.07899812 0.08909205 0.09244834\n",
            " 0.09272386 0.09154665 0.10126487 0.10672511 0.11396368 0.10647464\n",
            " 0.09507827 0.12247965 0.11646838 0.10973075 0.10876714 0.11072903\n",
            " 0.11228808 0.113508   0.11447322 0.11526161]\n",
            "6 day output [[0.11593516]]\n",
            "7 day input [0.07140889 0.0787226  0.08721353 0.08721353 0.07664371 0.08112711\n",
            " 0.07484033 0.0803757  0.08696306 0.09036944 0.09896055 0.10068879\n",
            " 0.0952536  0.09773325 0.09680651 0.10427051 0.10852849 0.10076393\n",
            " 0.11060739 0.11571697 0.12150282 0.1183469  0.11549155 0.11211021\n",
            " 0.12510958 0.12651221 0.13943644 0.13693175 0.1331747  0.14850344\n",
            " 0.14770194 0.14654978 0.14534753 0.14547276 0.15629305 0.15441453\n",
            " 0.16345648 0.1661866  0.16578585 0.16959299 0.16859111 0.16200376\n",
            " 0.15211021 0.15125861 0.15201002 0.15827176 0.14221666 0.13660614\n",
            " 0.13041954 0.1261866  0.12804008 0.12265498 0.11944897 0.12303068\n",
            " 0.11927364 0.1265623  0.14174076 0.11772073 0.12140263 0.11403882\n",
            " 0.10985598 0.11932373 0.1253851  0.11742016 0.11496556 0.10917971\n",
            " 0.11003131 0.11251096 0.10770194 0.08926738 0.07854728 0.08919224\n",
            " 0.09833438 0.09908579 0.09665623 0.08328115 0.0841077  0.08050094\n",
            " 0.07889793 0.09054477 0.07899812 0.08909205 0.09244834 0.09272386\n",
            " 0.09154665 0.10126487 0.10672511 0.11396368 0.10647464 0.09507827\n",
            " 0.12247965 0.11646838 0.10973075 0.10876714 0.11072903 0.11228808\n",
            " 0.113508   0.11447322 0.11526161 0.11593516]\n",
            "7 day output [[0.11653873]]\n",
            "8 day input [0.0787226  0.08721353 0.08721353 0.07664371 0.08112711 0.07484033\n",
            " 0.0803757  0.08696306 0.09036944 0.09896055 0.10068879 0.0952536\n",
            " 0.09773325 0.09680651 0.10427051 0.10852849 0.10076393 0.11060739\n",
            " 0.11571697 0.12150282 0.1183469  0.11549155 0.11211021 0.12510958\n",
            " 0.12651221 0.13943644 0.13693175 0.1331747  0.14850344 0.14770194\n",
            " 0.14654978 0.14534753 0.14547276 0.15629305 0.15441453 0.16345648\n",
            " 0.1661866  0.16578585 0.16959299 0.16859111 0.16200376 0.15211021\n",
            " 0.15125861 0.15201002 0.15827176 0.14221666 0.13660614 0.13041954\n",
            " 0.1261866  0.12804008 0.12265498 0.11944897 0.12303068 0.11927364\n",
            " 0.1265623  0.14174076 0.11772073 0.12140263 0.11403882 0.10985598\n",
            " 0.11932373 0.1253851  0.11742016 0.11496556 0.10917971 0.11003131\n",
            " 0.11251096 0.10770194 0.08926738 0.07854728 0.08919224 0.09833438\n",
            " 0.09908579 0.09665623 0.08328115 0.0841077  0.08050094 0.07889793\n",
            " 0.09054477 0.07899812 0.08909205 0.09244834 0.09272386 0.09154665\n",
            " 0.10126487 0.10672511 0.11396368 0.10647464 0.09507827 0.12247965\n",
            " 0.11646838 0.10973075 0.10876714 0.11072903 0.11228808 0.113508\n",
            " 0.11447322 0.11526161 0.11593516 0.11653873]\n",
            "8 day output [[0.11710278]]\n",
            "9 day input [0.08721353 0.08721353 0.07664371 0.08112711 0.07484033 0.0803757\n",
            " 0.08696306 0.09036944 0.09896055 0.10068879 0.0952536  0.09773325\n",
            " 0.09680651 0.10427051 0.10852849 0.10076393 0.11060739 0.11571697\n",
            " 0.12150282 0.1183469  0.11549155 0.11211021 0.12510958 0.12651221\n",
            " 0.13943644 0.13693175 0.1331747  0.14850344 0.14770194 0.14654978\n",
            " 0.14534753 0.14547276 0.15629305 0.15441453 0.16345648 0.1661866\n",
            " 0.16578585 0.16959299 0.16859111 0.16200376 0.15211021 0.15125861\n",
            " 0.15201002 0.15827176 0.14221666 0.13660614 0.13041954 0.1261866\n",
            " 0.12804008 0.12265498 0.11944897 0.12303068 0.11927364 0.1265623\n",
            " 0.14174076 0.11772073 0.12140263 0.11403882 0.10985598 0.11932373\n",
            " 0.1253851  0.11742016 0.11496556 0.10917971 0.11003131 0.11251096\n",
            " 0.10770194 0.08926738 0.07854728 0.08919224 0.09833438 0.09908579\n",
            " 0.09665623 0.08328115 0.0841077  0.08050094 0.07889793 0.09054477\n",
            " 0.07899812 0.08909205 0.09244834 0.09272386 0.09154665 0.10126487\n",
            " 0.10672511 0.11396368 0.10647464 0.09507827 0.12247965 0.11646838\n",
            " 0.10973075 0.10876714 0.11072903 0.11228808 0.113508   0.11447322\n",
            " 0.11526161 0.11593516 0.11653873 0.11710278]\n",
            "9 day output [[0.1176468]]\n",
            "10 day input [0.08721353 0.07664371 0.08112711 0.07484033 0.0803757  0.08696306\n",
            " 0.09036944 0.09896055 0.10068879 0.0952536  0.09773325 0.09680651\n",
            " 0.10427051 0.10852849 0.10076393 0.11060739 0.11571697 0.12150282\n",
            " 0.1183469  0.11549155 0.11211021 0.12510958 0.12651221 0.13943644\n",
            " 0.13693175 0.1331747  0.14850344 0.14770194 0.14654978 0.14534753\n",
            " 0.14547276 0.15629305 0.15441453 0.16345648 0.1661866  0.16578585\n",
            " 0.16959299 0.16859111 0.16200376 0.15211021 0.15125861 0.15201002\n",
            " 0.15827176 0.14221666 0.13660614 0.13041954 0.1261866  0.12804008\n",
            " 0.12265498 0.11944897 0.12303068 0.11927364 0.1265623  0.14174076\n",
            " 0.11772073 0.12140263 0.11403882 0.10985598 0.11932373 0.1253851\n",
            " 0.11742016 0.11496556 0.10917971 0.11003131 0.11251096 0.10770194\n",
            " 0.08926738 0.07854728 0.08919224 0.09833438 0.09908579 0.09665623\n",
            " 0.08328115 0.0841077  0.08050094 0.07889793 0.09054477 0.07899812\n",
            " 0.08909205 0.09244834 0.09272386 0.09154665 0.10126487 0.10672511\n",
            " 0.11396368 0.10647464 0.09507827 0.12247965 0.11646838 0.10973075\n",
            " 0.10876714 0.11072903 0.11228808 0.113508   0.11447322 0.11526161\n",
            " 0.11593516 0.11653873 0.11710278 0.1176468 ]\n",
            "10 day output [[0.11818261]]\n",
            "11 day input [0.07664371 0.08112711 0.07484033 0.0803757  0.08696306 0.09036944\n",
            " 0.09896055 0.10068879 0.0952536  0.09773325 0.09680651 0.10427051\n",
            " 0.10852849 0.10076393 0.11060739 0.11571697 0.12150282 0.1183469\n",
            " 0.11549155 0.11211021 0.12510958 0.12651221 0.13943644 0.13693175\n",
            " 0.1331747  0.14850344 0.14770194 0.14654978 0.14534753 0.14547276\n",
            " 0.15629305 0.15441453 0.16345648 0.1661866  0.16578585 0.16959299\n",
            " 0.16859111 0.16200376 0.15211021 0.15125861 0.15201002 0.15827176\n",
            " 0.14221666 0.13660614 0.13041954 0.1261866  0.12804008 0.12265498\n",
            " 0.11944897 0.12303068 0.11927364 0.1265623  0.14174076 0.11772073\n",
            " 0.12140263 0.11403882 0.10985598 0.11932373 0.1253851  0.11742016\n",
            " 0.11496556 0.10917971 0.11003131 0.11251096 0.10770194 0.08926738\n",
            " 0.07854728 0.08919224 0.09833438 0.09908579 0.09665623 0.08328115\n",
            " 0.0841077  0.08050094 0.07889793 0.09054477 0.07899812 0.08909205\n",
            " 0.09244834 0.09272386 0.09154665 0.10126487 0.10672511 0.11396368\n",
            " 0.10647464 0.09507827 0.12247965 0.11646838 0.10973075 0.10876714\n",
            " 0.11072903 0.11228808 0.113508   0.11447322 0.11526161 0.11593516\n",
            " 0.11653873 0.11710278 0.1176468  0.11818261]\n",
            "11 day output [[0.11871669]]\n",
            "12 day input [0.08112711 0.07484033 0.0803757  0.08696306 0.09036944 0.09896055\n",
            " 0.10068879 0.0952536  0.09773325 0.09680651 0.10427051 0.10852849\n",
            " 0.10076393 0.11060739 0.11571697 0.12150282 0.1183469  0.11549155\n",
            " 0.11211021 0.12510958 0.12651221 0.13943644 0.13693175 0.1331747\n",
            " 0.14850344 0.14770194 0.14654978 0.14534753 0.14547276 0.15629305\n",
            " 0.15441453 0.16345648 0.1661866  0.16578585 0.16959299 0.16859111\n",
            " 0.16200376 0.15211021 0.15125861 0.15201002 0.15827176 0.14221666\n",
            " 0.13660614 0.13041954 0.1261866  0.12804008 0.12265498 0.11944897\n",
            " 0.12303068 0.11927364 0.1265623  0.14174076 0.11772073 0.12140263\n",
            " 0.11403882 0.10985598 0.11932373 0.1253851  0.11742016 0.11496556\n",
            " 0.10917971 0.11003131 0.11251096 0.10770194 0.08926738 0.07854728\n",
            " 0.08919224 0.09833438 0.09908579 0.09665623 0.08328115 0.0841077\n",
            " 0.08050094 0.07889793 0.09054477 0.07899812 0.08909205 0.09244834\n",
            " 0.09272386 0.09154665 0.10126487 0.10672511 0.11396368 0.10647464\n",
            " 0.09507827 0.12247965 0.11646838 0.10973075 0.10876714 0.11072903\n",
            " 0.11228808 0.113508   0.11447322 0.11526161 0.11593516 0.11653873\n",
            " 0.11710278 0.1176468  0.11818261 0.11871669]\n",
            "12 day output [[0.11925216]]\n",
            "13 day input [0.07484033 0.0803757  0.08696306 0.09036944 0.09896055 0.10068879\n",
            " 0.0952536  0.09773325 0.09680651 0.10427051 0.10852849 0.10076393\n",
            " 0.11060739 0.11571697 0.12150282 0.1183469  0.11549155 0.11211021\n",
            " 0.12510958 0.12651221 0.13943644 0.13693175 0.1331747  0.14850344\n",
            " 0.14770194 0.14654978 0.14534753 0.14547276 0.15629305 0.15441453\n",
            " 0.16345648 0.1661866  0.16578585 0.16959299 0.16859111 0.16200376\n",
            " 0.15211021 0.15125861 0.15201002 0.15827176 0.14221666 0.13660614\n",
            " 0.13041954 0.1261866  0.12804008 0.12265498 0.11944897 0.12303068\n",
            " 0.11927364 0.1265623  0.14174076 0.11772073 0.12140263 0.11403882\n",
            " 0.10985598 0.11932373 0.1253851  0.11742016 0.11496556 0.10917971\n",
            " 0.11003131 0.11251096 0.10770194 0.08926738 0.07854728 0.08919224\n",
            " 0.09833438 0.09908579 0.09665623 0.08328115 0.0841077  0.08050094\n",
            " 0.07889793 0.09054477 0.07899812 0.08909205 0.09244834 0.09272386\n",
            " 0.09154665 0.10126487 0.10672511 0.11396368 0.10647464 0.09507827\n",
            " 0.12247965 0.11646838 0.10973075 0.10876714 0.11072903 0.11228808\n",
            " 0.113508   0.11447322 0.11526161 0.11593516 0.11653873 0.11710278\n",
            " 0.1176468  0.11818261 0.11871669 0.11925216]\n",
            "13 day output [[0.11978997]]\n",
            "14 day input [0.0803757  0.08696306 0.09036944 0.09896055 0.10068879 0.0952536\n",
            " 0.09773325 0.09680651 0.10427051 0.10852849 0.10076393 0.11060739\n",
            " 0.11571697 0.12150282 0.1183469  0.11549155 0.11211021 0.12510958\n",
            " 0.12651221 0.13943644 0.13693175 0.1331747  0.14850344 0.14770194\n",
            " 0.14654978 0.14534753 0.14547276 0.15629305 0.15441453 0.16345648\n",
            " 0.1661866  0.16578585 0.16959299 0.16859111 0.16200376 0.15211021\n",
            " 0.15125861 0.15201002 0.15827176 0.14221666 0.13660614 0.13041954\n",
            " 0.1261866  0.12804008 0.12265498 0.11944897 0.12303068 0.11927364\n",
            " 0.1265623  0.14174076 0.11772073 0.12140263 0.11403882 0.10985598\n",
            " 0.11932373 0.1253851  0.11742016 0.11496556 0.10917971 0.11003131\n",
            " 0.11251096 0.10770194 0.08926738 0.07854728 0.08919224 0.09833438\n",
            " 0.09908579 0.09665623 0.08328115 0.0841077  0.08050094 0.07889793\n",
            " 0.09054477 0.07899812 0.08909205 0.09244834 0.09272386 0.09154665\n",
            " 0.10126487 0.10672511 0.11396368 0.10647464 0.09507827 0.12247965\n",
            " 0.11646838 0.10973075 0.10876714 0.11072903 0.11228808 0.113508\n",
            " 0.11447322 0.11526161 0.11593516 0.11653873 0.11710278 0.1176468\n",
            " 0.11818261 0.11871669 0.11925216 0.11978997]\n",
            "14 day output [[0.12032963]]\n",
            "15 day input [0.08696306 0.09036944 0.09896055 0.10068879 0.0952536  0.09773325\n",
            " 0.09680651 0.10427051 0.10852849 0.10076393 0.11060739 0.11571697\n",
            " 0.12150282 0.1183469  0.11549155 0.11211021 0.12510958 0.12651221\n",
            " 0.13943644 0.13693175 0.1331747  0.14850344 0.14770194 0.14654978\n",
            " 0.14534753 0.14547276 0.15629305 0.15441453 0.16345648 0.1661866\n",
            " 0.16578585 0.16959299 0.16859111 0.16200376 0.15211021 0.15125861\n",
            " 0.15201002 0.15827176 0.14221666 0.13660614 0.13041954 0.1261866\n",
            " 0.12804008 0.12265498 0.11944897 0.12303068 0.11927364 0.1265623\n",
            " 0.14174076 0.11772073 0.12140263 0.11403882 0.10985598 0.11932373\n",
            " 0.1253851  0.11742016 0.11496556 0.10917971 0.11003131 0.11251096\n",
            " 0.10770194 0.08926738 0.07854728 0.08919224 0.09833438 0.09908579\n",
            " 0.09665623 0.08328115 0.0841077  0.08050094 0.07889793 0.09054477\n",
            " 0.07899812 0.08909205 0.09244834 0.09272386 0.09154665 0.10126487\n",
            " 0.10672511 0.11396368 0.10647464 0.09507827 0.12247965 0.11646838\n",
            " 0.10973075 0.10876714 0.11072903 0.11228808 0.113508   0.11447322\n",
            " 0.11526161 0.11593516 0.11653873 0.11710278 0.1176468  0.11818261\n",
            " 0.11871669 0.11925216 0.11978997 0.12032963]\n",
            "15 day output [[0.12086996]]\n",
            "16 day input [0.09036944 0.09896055 0.10068879 0.0952536  0.09773325 0.09680651\n",
            " 0.10427051 0.10852849 0.10076393 0.11060739 0.11571697 0.12150282\n",
            " 0.1183469  0.11549155 0.11211021 0.12510958 0.12651221 0.13943644\n",
            " 0.13693175 0.1331747  0.14850344 0.14770194 0.14654978 0.14534753\n",
            " 0.14547276 0.15629305 0.15441453 0.16345648 0.1661866  0.16578585\n",
            " 0.16959299 0.16859111 0.16200376 0.15211021 0.15125861 0.15201002\n",
            " 0.15827176 0.14221666 0.13660614 0.13041954 0.1261866  0.12804008\n",
            " 0.12265498 0.11944897 0.12303068 0.11927364 0.1265623  0.14174076\n",
            " 0.11772073 0.12140263 0.11403882 0.10985598 0.11932373 0.1253851\n",
            " 0.11742016 0.11496556 0.10917971 0.11003131 0.11251096 0.10770194\n",
            " 0.08926738 0.07854728 0.08919224 0.09833438 0.09908579 0.09665623\n",
            " 0.08328115 0.0841077  0.08050094 0.07889793 0.09054477 0.07899812\n",
            " 0.08909205 0.09244834 0.09272386 0.09154665 0.10126487 0.10672511\n",
            " 0.11396368 0.10647464 0.09507827 0.12247965 0.11646838 0.10973075\n",
            " 0.10876714 0.11072903 0.11228808 0.113508   0.11447322 0.11526161\n",
            " 0.11593516 0.11653873 0.11710278 0.1176468  0.11818261 0.11871669\n",
            " 0.11925216 0.11978997 0.12032963 0.12086996]\n",
            "16 day output [[0.12140924]]\n",
            "17 day input [0.09896055 0.10068879 0.0952536  0.09773325 0.09680651 0.10427051\n",
            " 0.10852849 0.10076393 0.11060739 0.11571697 0.12150282 0.1183469\n",
            " 0.11549155 0.11211021 0.12510958 0.12651221 0.13943644 0.13693175\n",
            " 0.1331747  0.14850344 0.14770194 0.14654978 0.14534753 0.14547276\n",
            " 0.15629305 0.15441453 0.16345648 0.1661866  0.16578585 0.16959299\n",
            " 0.16859111 0.16200376 0.15211021 0.15125861 0.15201002 0.15827176\n",
            " 0.14221666 0.13660614 0.13041954 0.1261866  0.12804008 0.12265498\n",
            " 0.11944897 0.12303068 0.11927364 0.1265623  0.14174076 0.11772073\n",
            " 0.12140263 0.11403882 0.10985598 0.11932373 0.1253851  0.11742016\n",
            " 0.11496556 0.10917971 0.11003131 0.11251096 0.10770194 0.08926738\n",
            " 0.07854728 0.08919224 0.09833438 0.09908579 0.09665623 0.08328115\n",
            " 0.0841077  0.08050094 0.07889793 0.09054477 0.07899812 0.08909205\n",
            " 0.09244834 0.09272386 0.09154665 0.10126487 0.10672511 0.11396368\n",
            " 0.10647464 0.09507827 0.12247965 0.11646838 0.10973075 0.10876714\n",
            " 0.11072903 0.11228808 0.113508   0.11447322 0.11526161 0.11593516\n",
            " 0.11653873 0.11710278 0.1176468  0.11818261 0.11871669 0.11925216\n",
            " 0.11978997 0.12032963 0.12086996 0.12140924]\n",
            "17 day output [[0.12194561]]\n",
            "18 day input [0.10068879 0.0952536  0.09773325 0.09680651 0.10427051 0.10852849\n",
            " 0.10076393 0.11060739 0.11571697 0.12150282 0.1183469  0.11549155\n",
            " 0.11211021 0.12510958 0.12651221 0.13943644 0.13693175 0.1331747\n",
            " 0.14850344 0.14770194 0.14654978 0.14534753 0.14547276 0.15629305\n",
            " 0.15441453 0.16345648 0.1661866  0.16578585 0.16959299 0.16859111\n",
            " 0.16200376 0.15211021 0.15125861 0.15201002 0.15827176 0.14221666\n",
            " 0.13660614 0.13041954 0.1261866  0.12804008 0.12265498 0.11944897\n",
            " 0.12303068 0.11927364 0.1265623  0.14174076 0.11772073 0.12140263\n",
            " 0.11403882 0.10985598 0.11932373 0.1253851  0.11742016 0.11496556\n",
            " 0.10917971 0.11003131 0.11251096 0.10770194 0.08926738 0.07854728\n",
            " 0.08919224 0.09833438 0.09908579 0.09665623 0.08328115 0.0841077\n",
            " 0.08050094 0.07889793 0.09054477 0.07899812 0.08909205 0.09244834\n",
            " 0.09272386 0.09154665 0.10126487 0.10672511 0.11396368 0.10647464\n",
            " 0.09507827 0.12247965 0.11646838 0.10973075 0.10876714 0.11072903\n",
            " 0.11228808 0.113508   0.11447322 0.11526161 0.11593516 0.11653873\n",
            " 0.11710278 0.1176468  0.11818261 0.11871669 0.11925216 0.11978997\n",
            " 0.12032963 0.12086996 0.12140924 0.12194561]\n",
            "18 day output [[0.12247725]]\n",
            "19 day input [0.0952536  0.09773325 0.09680651 0.10427051 0.10852849 0.10076393\n",
            " 0.11060739 0.11571697 0.12150282 0.1183469  0.11549155 0.11211021\n",
            " 0.12510958 0.12651221 0.13943644 0.13693175 0.1331747  0.14850344\n",
            " 0.14770194 0.14654978 0.14534753 0.14547276 0.15629305 0.15441453\n",
            " 0.16345648 0.1661866  0.16578585 0.16959299 0.16859111 0.16200376\n",
            " 0.15211021 0.15125861 0.15201002 0.15827176 0.14221666 0.13660614\n",
            " 0.13041954 0.1261866  0.12804008 0.12265498 0.11944897 0.12303068\n",
            " 0.11927364 0.1265623  0.14174076 0.11772073 0.12140263 0.11403882\n",
            " 0.10985598 0.11932373 0.1253851  0.11742016 0.11496556 0.10917971\n",
            " 0.11003131 0.11251096 0.10770194 0.08926738 0.07854728 0.08919224\n",
            " 0.09833438 0.09908579 0.09665623 0.08328115 0.0841077  0.08050094\n",
            " 0.07889793 0.09054477 0.07899812 0.08909205 0.09244834 0.09272386\n",
            " 0.09154665 0.10126487 0.10672511 0.11396368 0.10647464 0.09507827\n",
            " 0.12247965 0.11646838 0.10973075 0.10876714 0.11072903 0.11228808\n",
            " 0.113508   0.11447322 0.11526161 0.11593516 0.11653873 0.11710278\n",
            " 0.1176468  0.11818261 0.11871669 0.11925216 0.11978997 0.12032963\n",
            " 0.12086996 0.12140924 0.12194561 0.12247725]\n",
            "19 day output [[0.12300231]]\n",
            "20 day input [0.09773325 0.09680651 0.10427051 0.10852849 0.10076393 0.11060739\n",
            " 0.11571697 0.12150282 0.1183469  0.11549155 0.11211021 0.12510958\n",
            " 0.12651221 0.13943644 0.13693175 0.1331747  0.14850344 0.14770194\n",
            " 0.14654978 0.14534753 0.14547276 0.15629305 0.15441453 0.16345648\n",
            " 0.1661866  0.16578585 0.16959299 0.16859111 0.16200376 0.15211021\n",
            " 0.15125861 0.15201002 0.15827176 0.14221666 0.13660614 0.13041954\n",
            " 0.1261866  0.12804008 0.12265498 0.11944897 0.12303068 0.11927364\n",
            " 0.1265623  0.14174076 0.11772073 0.12140263 0.11403882 0.10985598\n",
            " 0.11932373 0.1253851  0.11742016 0.11496556 0.10917971 0.11003131\n",
            " 0.11251096 0.10770194 0.08926738 0.07854728 0.08919224 0.09833438\n",
            " 0.09908579 0.09665623 0.08328115 0.0841077  0.08050094 0.07889793\n",
            " 0.09054477 0.07899812 0.08909205 0.09244834 0.09272386 0.09154665\n",
            " 0.10126487 0.10672511 0.11396368 0.10647464 0.09507827 0.12247965\n",
            " 0.11646838 0.10973075 0.10876714 0.11072903 0.11228808 0.113508\n",
            " 0.11447322 0.11526161 0.11593516 0.11653873 0.11710278 0.1176468\n",
            " 0.11818261 0.11871669 0.11925216 0.11978997 0.12032963 0.12086996\n",
            " 0.12140924 0.12194561 0.12247725 0.12300231]\n",
            "20 day output [[0.12351929]]\n",
            "21 day input [0.09680651 0.10427051 0.10852849 0.10076393 0.11060739 0.11571697\n",
            " 0.12150282 0.1183469  0.11549155 0.11211021 0.12510958 0.12651221\n",
            " 0.13943644 0.13693175 0.1331747  0.14850344 0.14770194 0.14654978\n",
            " 0.14534753 0.14547276 0.15629305 0.15441453 0.16345648 0.1661866\n",
            " 0.16578585 0.16959299 0.16859111 0.16200376 0.15211021 0.15125861\n",
            " 0.15201002 0.15827176 0.14221666 0.13660614 0.13041954 0.1261866\n",
            " 0.12804008 0.12265498 0.11944897 0.12303068 0.11927364 0.1265623\n",
            " 0.14174076 0.11772073 0.12140263 0.11403882 0.10985598 0.11932373\n",
            " 0.1253851  0.11742016 0.11496556 0.10917971 0.11003131 0.11251096\n",
            " 0.10770194 0.08926738 0.07854728 0.08919224 0.09833438 0.09908579\n",
            " 0.09665623 0.08328115 0.0841077  0.08050094 0.07889793 0.09054477\n",
            " 0.07899812 0.08909205 0.09244834 0.09272386 0.09154665 0.10126487\n",
            " 0.10672511 0.11396368 0.10647464 0.09507827 0.12247965 0.11646838\n",
            " 0.10973075 0.10876714 0.11072903 0.11228808 0.113508   0.11447322\n",
            " 0.11526161 0.11593516 0.11653873 0.11710278 0.1176468  0.11818261\n",
            " 0.11871669 0.11925216 0.11978997 0.12032963 0.12086996 0.12140924\n",
            " 0.12194561 0.12247725 0.12300231 0.12351929]\n",
            "21 day output [[0.12402686]]\n",
            "22 day input [0.10427051 0.10852849 0.10076393 0.11060739 0.11571697 0.12150282\n",
            " 0.1183469  0.11549155 0.11211021 0.12510958 0.12651221 0.13943644\n",
            " 0.13693175 0.1331747  0.14850344 0.14770194 0.14654978 0.14534753\n",
            " 0.14547276 0.15629305 0.15441453 0.16345648 0.1661866  0.16578585\n",
            " 0.16959299 0.16859111 0.16200376 0.15211021 0.15125861 0.15201002\n",
            " 0.15827176 0.14221666 0.13660614 0.13041954 0.1261866  0.12804008\n",
            " 0.12265498 0.11944897 0.12303068 0.11927364 0.1265623  0.14174076\n",
            " 0.11772073 0.12140263 0.11403882 0.10985598 0.11932373 0.1253851\n",
            " 0.11742016 0.11496556 0.10917971 0.11003131 0.11251096 0.10770194\n",
            " 0.08926738 0.07854728 0.08919224 0.09833438 0.09908579 0.09665623\n",
            " 0.08328115 0.0841077  0.08050094 0.07889793 0.09054477 0.07899812\n",
            " 0.08909205 0.09244834 0.09272386 0.09154665 0.10126487 0.10672511\n",
            " 0.11396368 0.10647464 0.09507827 0.12247965 0.11646838 0.10973075\n",
            " 0.10876714 0.11072903 0.11228808 0.113508   0.11447322 0.11526161\n",
            " 0.11593516 0.11653873 0.11710278 0.1176468  0.11818261 0.11871669\n",
            " 0.11925216 0.11978997 0.12032963 0.12086996 0.12140924 0.12194561\n",
            " 0.12247725 0.12300231 0.12351929 0.12402686]\n",
            "22 day output [[0.12452401]]\n",
            "23 day input [0.10852849 0.10076393 0.11060739 0.11571697 0.12150282 0.1183469\n",
            " 0.11549155 0.11211021 0.12510958 0.12651221 0.13943644 0.13693175\n",
            " 0.1331747  0.14850344 0.14770194 0.14654978 0.14534753 0.14547276\n",
            " 0.15629305 0.15441453 0.16345648 0.1661866  0.16578585 0.16959299\n",
            " 0.16859111 0.16200376 0.15211021 0.15125861 0.15201002 0.15827176\n",
            " 0.14221666 0.13660614 0.13041954 0.1261866  0.12804008 0.12265498\n",
            " 0.11944897 0.12303068 0.11927364 0.1265623  0.14174076 0.11772073\n",
            " 0.12140263 0.11403882 0.10985598 0.11932373 0.1253851  0.11742016\n",
            " 0.11496556 0.10917971 0.11003131 0.11251096 0.10770194 0.08926738\n",
            " 0.07854728 0.08919224 0.09833438 0.09908579 0.09665623 0.08328115\n",
            " 0.0841077  0.08050094 0.07889793 0.09054477 0.07899812 0.08909205\n",
            " 0.09244834 0.09272386 0.09154665 0.10126487 0.10672511 0.11396368\n",
            " 0.10647464 0.09507827 0.12247965 0.11646838 0.10973075 0.10876714\n",
            " 0.11072903 0.11228808 0.113508   0.11447322 0.11526161 0.11593516\n",
            " 0.11653873 0.11710278 0.1176468  0.11818261 0.11871669 0.11925216\n",
            " 0.11978997 0.12032963 0.12086996 0.12140924 0.12194561 0.12247725\n",
            " 0.12300231 0.12351929 0.12402686 0.12452401]\n",
            "23 day output [[0.12501004]]\n",
            "24 day input [0.10076393 0.11060739 0.11571697 0.12150282 0.1183469  0.11549155\n",
            " 0.11211021 0.12510958 0.12651221 0.13943644 0.13693175 0.1331747\n",
            " 0.14850344 0.14770194 0.14654978 0.14534753 0.14547276 0.15629305\n",
            " 0.15441453 0.16345648 0.1661866  0.16578585 0.16959299 0.16859111\n",
            " 0.16200376 0.15211021 0.15125861 0.15201002 0.15827176 0.14221666\n",
            " 0.13660614 0.13041954 0.1261866  0.12804008 0.12265498 0.11944897\n",
            " 0.12303068 0.11927364 0.1265623  0.14174076 0.11772073 0.12140263\n",
            " 0.11403882 0.10985598 0.11932373 0.1253851  0.11742016 0.11496556\n",
            " 0.10917971 0.11003131 0.11251096 0.10770194 0.08926738 0.07854728\n",
            " 0.08919224 0.09833438 0.09908579 0.09665623 0.08328115 0.0841077\n",
            " 0.08050094 0.07889793 0.09054477 0.07899812 0.08909205 0.09244834\n",
            " 0.09272386 0.09154665 0.10126487 0.10672511 0.11396368 0.10647464\n",
            " 0.09507827 0.12247965 0.11646838 0.10973075 0.10876714 0.11072903\n",
            " 0.11228808 0.113508   0.11447322 0.11526161 0.11593516 0.11653873\n",
            " 0.11710278 0.1176468  0.11818261 0.11871669 0.11925216 0.11978997\n",
            " 0.12032963 0.12086996 0.12140924 0.12194561 0.12247725 0.12300231\n",
            " 0.12351929 0.12402686 0.12452401 0.12501004]\n",
            "24 day output [[0.12548453]]\n",
            "25 day input [0.11060739 0.11571697 0.12150282 0.1183469  0.11549155 0.11211021\n",
            " 0.12510958 0.12651221 0.13943644 0.13693175 0.1331747  0.14850344\n",
            " 0.14770194 0.14654978 0.14534753 0.14547276 0.15629305 0.15441453\n",
            " 0.16345648 0.1661866  0.16578585 0.16959299 0.16859111 0.16200376\n",
            " 0.15211021 0.15125861 0.15201002 0.15827176 0.14221666 0.13660614\n",
            " 0.13041954 0.1261866  0.12804008 0.12265498 0.11944897 0.12303068\n",
            " 0.11927364 0.1265623  0.14174076 0.11772073 0.12140263 0.11403882\n",
            " 0.10985598 0.11932373 0.1253851  0.11742016 0.11496556 0.10917971\n",
            " 0.11003131 0.11251096 0.10770194 0.08926738 0.07854728 0.08919224\n",
            " 0.09833438 0.09908579 0.09665623 0.08328115 0.0841077  0.08050094\n",
            " 0.07889793 0.09054477 0.07899812 0.08909205 0.09244834 0.09272386\n",
            " 0.09154665 0.10126487 0.10672511 0.11396368 0.10647464 0.09507827\n",
            " 0.12247965 0.11646838 0.10973075 0.10876714 0.11072903 0.11228808\n",
            " 0.113508   0.11447322 0.11526161 0.11593516 0.11653873 0.11710278\n",
            " 0.1176468  0.11818261 0.11871669 0.11925216 0.11978997 0.12032963\n",
            " 0.12086996 0.12140924 0.12194561 0.12247725 0.12300231 0.12351929\n",
            " 0.12402686 0.12452401 0.12501004 0.12548453]\n",
            "25 day output [[0.12594727]]\n",
            "26 day input [0.11571697 0.12150282 0.1183469  0.11549155 0.11211021 0.12510958\n",
            " 0.12651221 0.13943644 0.13693175 0.1331747  0.14850344 0.14770194\n",
            " 0.14654978 0.14534753 0.14547276 0.15629305 0.15441453 0.16345648\n",
            " 0.1661866  0.16578585 0.16959299 0.16859111 0.16200376 0.15211021\n",
            " 0.15125861 0.15201002 0.15827176 0.14221666 0.13660614 0.13041954\n",
            " 0.1261866  0.12804008 0.12265498 0.11944897 0.12303068 0.11927364\n",
            " 0.1265623  0.14174076 0.11772073 0.12140263 0.11403882 0.10985598\n",
            " 0.11932373 0.1253851  0.11742016 0.11496556 0.10917971 0.11003131\n",
            " 0.11251096 0.10770194 0.08926738 0.07854728 0.08919224 0.09833438\n",
            " 0.09908579 0.09665623 0.08328115 0.0841077  0.08050094 0.07889793\n",
            " 0.09054477 0.07899812 0.08909205 0.09244834 0.09272386 0.09154665\n",
            " 0.10126487 0.10672511 0.11396368 0.10647464 0.09507827 0.12247965\n",
            " 0.11646838 0.10973075 0.10876714 0.11072903 0.11228808 0.113508\n",
            " 0.11447322 0.11526161 0.11593516 0.11653873 0.11710278 0.1176468\n",
            " 0.11818261 0.11871669 0.11925216 0.11978997 0.12032963 0.12086996\n",
            " 0.12140924 0.12194561 0.12247725 0.12300231 0.12351929 0.12402686\n",
            " 0.12452401 0.12501004 0.12548453 0.12594727]\n",
            "26 day output [[0.1263984]]\n",
            "27 day input [0.12150282 0.1183469  0.11549155 0.11211021 0.12510958 0.12651221\n",
            " 0.13943644 0.13693175 0.1331747  0.14850344 0.14770194 0.14654978\n",
            " 0.14534753 0.14547276 0.15629305 0.15441453 0.16345648 0.1661866\n",
            " 0.16578585 0.16959299 0.16859111 0.16200376 0.15211021 0.15125861\n",
            " 0.15201002 0.15827176 0.14221666 0.13660614 0.13041954 0.1261866\n",
            " 0.12804008 0.12265498 0.11944897 0.12303068 0.11927364 0.1265623\n",
            " 0.14174076 0.11772073 0.12140263 0.11403882 0.10985598 0.11932373\n",
            " 0.1253851  0.11742016 0.11496556 0.10917971 0.11003131 0.11251096\n",
            " 0.10770194 0.08926738 0.07854728 0.08919224 0.09833438 0.09908579\n",
            " 0.09665623 0.08328115 0.0841077  0.08050094 0.07889793 0.09054477\n",
            " 0.07899812 0.08909205 0.09244834 0.09272386 0.09154665 0.10126487\n",
            " 0.10672511 0.11396368 0.10647464 0.09507827 0.12247965 0.11646838\n",
            " 0.10973075 0.10876714 0.11072903 0.11228808 0.113508   0.11447322\n",
            " 0.11526161 0.11593516 0.11653873 0.11710278 0.1176468  0.11818261\n",
            " 0.11871669 0.11925216 0.11978997 0.12032963 0.12086996 0.12140924\n",
            " 0.12194561 0.12247725 0.12300231 0.12351929 0.12402686 0.12452401\n",
            " 0.12501004 0.12548453 0.12594727 0.1263984 ]\n",
            "27 day output [[0.12683824]]\n",
            "28 day input [0.1183469  0.11549155 0.11211021 0.12510958 0.12651221 0.13943644\n",
            " 0.13693175 0.1331747  0.14850344 0.14770194 0.14654978 0.14534753\n",
            " 0.14547276 0.15629305 0.15441453 0.16345648 0.1661866  0.16578585\n",
            " 0.16959299 0.16859111 0.16200376 0.15211021 0.15125861 0.15201002\n",
            " 0.15827176 0.14221666 0.13660614 0.13041954 0.1261866  0.12804008\n",
            " 0.12265498 0.11944897 0.12303068 0.11927364 0.1265623  0.14174076\n",
            " 0.11772073 0.12140263 0.11403882 0.10985598 0.11932373 0.1253851\n",
            " 0.11742016 0.11496556 0.10917971 0.11003131 0.11251096 0.10770194\n",
            " 0.08926738 0.07854728 0.08919224 0.09833438 0.09908579 0.09665623\n",
            " 0.08328115 0.0841077  0.08050094 0.07889793 0.09054477 0.07899812\n",
            " 0.08909205 0.09244834 0.09272386 0.09154665 0.10126487 0.10672511\n",
            " 0.11396368 0.10647464 0.09507827 0.12247965 0.11646838 0.10973075\n",
            " 0.10876714 0.11072903 0.11228808 0.113508   0.11447322 0.11526161\n",
            " 0.11593516 0.11653873 0.11710278 0.1176468  0.11818261 0.11871669\n",
            " 0.11925216 0.11978997 0.12032963 0.12086996 0.12140924 0.12194561\n",
            " 0.12247725 0.12300231 0.12351929 0.12402686 0.12452401 0.12501004\n",
            " 0.12548453 0.12594727 0.1263984  0.12683824]\n",
            "28 day output [[0.12726724]]\n",
            "29 day input [0.11549155 0.11211021 0.12510958 0.12651221 0.13943644 0.13693175\n",
            " 0.1331747  0.14850344 0.14770194 0.14654978 0.14534753 0.14547276\n",
            " 0.15629305 0.15441453 0.16345648 0.1661866  0.16578585 0.16959299\n",
            " 0.16859111 0.16200376 0.15211021 0.15125861 0.15201002 0.15827176\n",
            " 0.14221666 0.13660614 0.13041954 0.1261866  0.12804008 0.12265498\n",
            " 0.11944897 0.12303068 0.11927364 0.1265623  0.14174076 0.11772073\n",
            " 0.12140263 0.11403882 0.10985598 0.11932373 0.1253851  0.11742016\n",
            " 0.11496556 0.10917971 0.11003131 0.11251096 0.10770194 0.08926738\n",
            " 0.07854728 0.08919224 0.09833438 0.09908579 0.09665623 0.08328115\n",
            " 0.0841077  0.08050094 0.07889793 0.09054477 0.07899812 0.08909205\n",
            " 0.09244834 0.09272386 0.09154665 0.10126487 0.10672511 0.11396368\n",
            " 0.10647464 0.09507827 0.12247965 0.11646838 0.10973075 0.10876714\n",
            " 0.11072903 0.11228808 0.113508   0.11447322 0.11526161 0.11593516\n",
            " 0.11653873 0.11710278 0.1176468  0.11818261 0.11871669 0.11925216\n",
            " 0.11978997 0.12032963 0.12086996 0.12140924 0.12194561 0.12247725\n",
            " 0.12300231 0.12351929 0.12402686 0.12452401 0.12501004 0.12548453\n",
            " 0.12594727 0.1263984  0.12683824 0.12726724]\n",
            "29 day output [[0.12768596]]\n",
            "[[0.10876713693141937], [0.11072903126478195], [0.11228808015584946], [0.11350800096988678], [0.11447321623563766], [0.11526161432266235], [0.11593516170978546], [0.11653873324394226], [0.11710277944803238], [0.11764679849147797], [0.11818261444568634], [0.11871668696403503], [0.11925216019153595], [0.1197899729013443], [0.12032962590456009], [0.1208699569106102], [0.12140923738479614], [0.12194561213254929], [0.12247724831104279], [0.1230023130774498], [0.12351928651332855], [0.12402685731649399], [0.12452401220798492], [0.12501004338264465], [0.12548452615737915], [0.1259472668170929], [0.12639839947223663], [0.12683823704719543], [0.1272672414779663], [0.12768596410751343]]\n"
          ]
        }
      ]
    },
    {
      "cell_type": "code",
      "source": [
        "day_new = np.arange(1,100)\n",
        "day_pred = np.arange(100,130)"
      ],
      "metadata": {
        "id": "zXH1WQmpG-1e"
      },
      "execution_count": null,
      "outputs": []
    },
    {
      "cell_type": "code",
      "source": [
        "import matplotlib.pyplot as plt"
      ],
      "metadata": {
        "id": "uzTa_-MxIOx8"
      },
      "execution_count": null,
      "outputs": []
    },
    {
      "cell_type": "code",
      "source": [
        "len(df1)"
      ],
      "metadata": {
        "colab": {
          "base_uri": "https://localhost:8080/"
        },
        "id": "idjf-NGqITco",
        "outputId": "f2dcf909-efcb-4f81-9e96-33ae915e0647"
      },
      "execution_count": null,
      "outputs": [
        {
          "output_type": "execute_result",
          "data": {
            "text/plain": [
              "1257"
            ]
          },
          "metadata": {},
          "execution_count": 306
        }
      ]
    },
    {
      "cell_type": "code",
      "source": [
        "df3 = df1.tolist()\n",
        "df3.extend(lst_output)"
      ],
      "metadata": {
        "id": "fa1Edn-nIWV2"
      },
      "execution_count": null,
      "outputs": []
    },
    {
      "cell_type": "code",
      "source": [
        "plt.plot(day_new,scaler.inverse_transform(df1[1158:]))\n",
        "plt.plot(day_pred,scaler.inverse_transform(lst_output))"
      ],
      "metadata": {
        "colab": {
          "base_uri": "https://localhost:8080/",
          "height": 282
        },
        "id": "hVa1UblbId3W",
        "outputId": "d97b92a2-5813-48c7-a57d-926269916497"
      },
      "execution_count": null,
      "outputs": [
        {
          "output_type": "execute_result",
          "data": {
            "text/plain": [
              "[<matplotlib.lines.Line2D at 0x7f1fb07e7c90>]"
            ]
          },
          "metadata": {},
          "execution_count": 308
        },
        {
          "output_type": "display_data",
          "data": {
            "text/plain": [
              "<Figure size 432x288 with 1 Axes>"
            ],
            "image/png": "[encoded data removed]"
          },
          "metadata": {
            "needs_background": "light"
          }
        }
      ]
    }
  ]
}